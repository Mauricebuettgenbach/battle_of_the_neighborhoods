{
    "cells": [
        {
            "cell_type": "markdown",
            "source": [
                "# TABLE OF CONTENT\r\n",
                "+ THE BUSINESS CASE\r\n",
                "+ THE DATA\r\n",
                "+ THE METHODOLOGY"
            ],
            "metadata": {}
        },
        {
            "cell_type": "markdown",
            "source": [
                "# THE BUSINESS PROBLEM\r\n",
                "According to [Wikipedia](https://en.wikipedia.org/wiki/Types_of_restaurants), you can classify restaurants into seven categories that in turn can be broken down into eleven variations. Some of these combinations might be a little odd (e.g. \"Fine Dining\" and \"Pub\") but let us assume for a minute that this list is complete and all combinations are possible. In result, we would have 77 unique combinations of how a restaurant could look like. [Wikipedia](https://en.wikipedia.org/wiki/List_of_cuisines) also hosts a list of cuisines and cuisine types. According to Wikipedia, there are five major cusine styles and 123 distinguished ethnic and religious cuisines, giving us 615  combinations for different types of food that we could eat. If we trust these figures, we are all in all looking at a possible variety of over 43,000 unique restaurants - great, right?\r\n",
                "<br>\r\n",
                "<br>\r\n",
                "![But why](https://media.giphy.com/media/s239QJIh56sRW/giphy.gif)\r\n",
                "<br>\r\n",
                "<br>\r\n",
                "Glad you asked! These figures do not really matter for our problem. I only wanted to show you one thing: The food industry is extremely diverse and each type of restaurant brings its own unique challenges. However, they all have one common issue: Location, location, location! No matter what type of restaurant you own, you need a specific location that matches your profile. Of course you could now say: \"That's easy to fix - just go where a lot of people are!\" \r\n",
                "<br>\r\n",
                "<br>\r\n",
                "But is it really so easy? Depending on your restaurant, you need parking space. Maybe you want a quite neighborhood because you own a fine dining restaurant. Maybe you don't want to be where a lot of other restaurants are that are similiar to the cuisine you offer. Or maybe you have a super trendy concept that requires your restaurant to be placed in the most hipster district of your city. We could make this list longer and longer but the point is: It ain't easy. \r\n",
                "<br>\r\n",
                "<br>\r\n",
                "Choosing the right location also becomes increasingly difficult when you don't know the city you want to open your restaurant in. Finding the right spot will require you to do some extensive research and location scouting. This process takes a lot of time and eats up ressources. While this approach is feasible for small businesses, it becomes unhandy for larger corporations who want to expand their restaurants to multiple cities at the same time. In result, corporations need to spend more money to keep up quality and speed. So how could we help larger restaurant corporations to make this process more efficient? \r\n",
                "<br>\r\n",
                "<br>\r\n",
                "Well, with data science of course! Larger restaurant chains usually already have a couple of restaurants in place and know which locations run well in their business model and which not. We can use this information to train a clustering algorithm to identify neighborhoods that are similar to the locations with profitable restaurants. This way we can build a recommender system that tells us which neighborhoods in a new town are more likely to host a successful restaurant. Consequently, we would not have to research all areas but could focus our scouting activity on the most promising neighborhoods. This way, we would be able to improve speed and quality as well as cut the related costs significantly."
            ],
            "metadata": {}
        },
        {
            "cell_type": "markdown",
            "source": [
                "<br>\r\n",
                "<br>"
            ],
            "metadata": {}
        },
        {
            "cell_type": "markdown",
            "source": [
                "# THE DATA"
            ],
            "metadata": {}
        },
        {
            "cell_type": "markdown",
            "source": [
                "## L'OSTERIA\r\n",
                "As our business problem aims to build a recommender system for a fast growing restaurant chain, we need an example that we can work with. Ladies and gentlemen, please welcome my favorite pizza chain: [L'Osteria](https://losteria.net/en/)!\r\n",
                "<br>\r\n",
                "<br>\r\n",
                "L'Osteria is an italian restaurant chain that was founded in Germany in 1999. The first restaurant was quickly becomming a hit as it combined tasty food, a trendy atmosphere and reasonable prices. Today, the chain has expanded to basically every larger city in Germany and starts to go international with places in Switzerland, Austria, Netherlands and the UK. That gives us a lot of possibilities to train our algorithm. Unfortunately, we do not have access to L'Osteria's database which is why we need to construct our own workaround. Luckily for us, the chain publishes the addresses of all their restaurants on their [website](https://losteria.net/en/restaurants/view/list/?tx_losteriarestaurants_restaurantsreopening%5Bfilter%5D%5Bcountry%5D=de&tx_losteriarestaurants_restaurantsreopening%5Bfilter%5D%5BsearchTerm%5D=&&&tx_losteriarestaurants_restaurantsreopening%5Bfilter%5D%5Btype%5D=reservations&).\r\n",
                "<br>\r\n",
                "<br>\r\n",
                "To use this information, we need to scrape it from their website. When you take a closer look at the L'Osteria website, you will notice that it uses an event button which hides most of the restaurants. We could use a library called [Selenium](https://www.selenium.dev/), if we want a fully automized script that clicks the button for us. However, that would be an overkill as the button only needs to be clicked ~10 times. In result, it is easier to do so by hand and download the website that now shows all restaurants and store it as a html file in our working directory. \r\n",
                "<br>\r\n",
                "<br>\r\n",
                "That enables us to use the infamous html scraping library [BeautifulSoup](https://www.crummy.com/software/BeautifulSoup/bs4/doc/). The following code scrapes the data we need from the downloaded html file (also available in the repository) and transforms it as the file contains e.g German characters that otherwise result in jibberish. "
            ],
            "metadata": {}
        },
        {
            "cell_type": "code",
            "execution_count": 1,
            "source": [
                "# Import working libraries\r\n",
                "import pandas as pd # Data wrangling\r\n",
                "from tqdm import tqdm # Progress visualization\r\n",
                "import requests # Request handling\r\n",
                "from bs4 import BeautifulSoup # HTML search\r\n",
                "import re # String handling\r\n",
                "import ast # String handling\r\n",
                "\r\n",
                "# Set path to html file\r\n",
                "path = r\"C:\\Users\\maurice.buettgenbach\\OneDrive - Aquila Capital Management GmbH\\Desktop\\Desktop\\Private\\IBM\\10_Capstone project\\IBM_The_battle_of_neighborhoods_v2\\LOSTERIA_DATA\\Restaurants - L'Osteria.htm\"\r\n",
                "\r\n",
                "# Open document and transform to BS object\r\n",
                "with open(path) as page:\r\n",
                "    soup = BeautifulSoup(page, 'html.parser')\r\n",
                "\r\n",
                "# Define results\r\n",
                "results = soup.find(id='losteria-restaurants-list-wrapper')\r\n",
                "\r\n",
                "# Find elements\r\n",
                "page_elements = results.find_all('div', class_='address')\r\n",
                "\r\n",
                "# Create variable to store data in\r\n",
                "restaurants = pd.DataFrame()\r\n",
                "\r\n",
                "# Iterate through found elements\r\n",
                "for page_element in tqdm(page_elements):\r\n",
                "    # Isolate address\r\n",
                "    element = str(page_element)\r\n",
                "    # Get rid of unnecessary characters\r\n",
                "    element = element.replace(\"\\n\", \"\")\r\n",
                "    element = element.replace(\"\\r\", \"\")\r\n",
                "    # Get rid of spaces\r\n",
                "    element = element.replace(\" \", \"\")\r\n",
                "    # Search for address in between <div>\r\n",
                "    search_result = re.search(\">(.*)<\", element)\r\n",
                "    # Store search result in new variable\r\n",
                "    address = search_result.group(1)\r\n",
                "    # Get street\r\n",
                "    street = address.split(\",\")[0]\r\n",
                "    # Add space between street name and house number\r\n",
                "    street = re.sub(r\"([0-9]+(\\.[0-9]+)?)\",r\" \\1 \", street).strip()\r\n",
                "    # Add space before Capital letter\r\n",
                "    street = re.sub(r\"(?<=\\w)([A-Z])\", r\" \\1\", street).strip()\r\n",
                "    # Get ZIP code and city\r\n",
                "    address = address.split(\",\")[1]\r\n",
                "    # Isolate ZIP code\r\n",
                "    zip_code = re.split('(\\d+)', address)[1]\r\n",
                "    # Isolate city\r\n",
                "    city = re.split('(\\d+)', address)[2]\r\n",
                "    # Create temporary df\r\n",
                "    temp_df = pd.DataFrame()\r\n",
                "    # Add data to df\r\n",
                "    temp_df['STREET'] = [street]\r\n",
                "    temp_df['ZIP_CODE'] = zip_code\r\n",
                "    temp_df['CITY'] = city\r\n",
                "    # Append to variable\r\n",
                "    restaurants = restaurants.append(temp_df)\r\n",
                "# Reset index\r\n",
                "restaurants.reset_index(drop=True, inplace=True)\r\n",
                "\r\n",
                "# Replace cryptic html for German characters\r\n",
                "restaurants = restaurants.replace('Ã¤', \"ae\", regex=True) # For German Umlaut \"ä\"\r\n",
                "restaurants = restaurants.replace('Ã¼', \"ue\", regex=True) # For German Umlaut \"ü\"\r\n",
                "restaurants = restaurants.replace('Ã¶', \"oe\", regex=True) # For German Umlaut \"ö\"\r\n",
                "restaurants = restaurants.replace('ÃŸ', \"ss\", regex=True) # For German Umlaut \"ß\"\r\n",
                "\r\n",
                "# Add spacer for output\r\n",
                "print()\r\n",
                "print()\r\n",
                "\r\n",
                "# Visualize variable\r\n",
                "print(\"df shape:\", restaurants.shape)\r\n",
                "restaurants.head(10)"
            ],
            "outputs": [
                {
                    "output_type": "stream",
                    "name": "stderr",
                    "text": [
                        "100%|██████████| 121/121 [00:00<00:00, 420.92it/s]"
                    ]
                },
                {
                    "output_type": "stream",
                    "name": "stdout",
                    "text": [
                        "\n",
                        "\n",
                        "df shape: (121, 3)\n"
                    ]
                },
                {
                    "output_type": "stream",
                    "name": "stderr",
                    "text": [
                        "\n"
                    ]
                },
                {
                    "output_type": "execute_result",
                    "data": {
                        "text/html": [
                            "<div>\n",
                            "<style scoped>\n",
                            "    .dataframe tbody tr th:only-of-type {\n",
                            "        vertical-align: middle;\n",
                            "    }\n",
                            "\n",
                            "    .dataframe tbody tr th {\n",
                            "        vertical-align: top;\n",
                            "    }\n",
                            "\n",
                            "    .dataframe thead th {\n",
                            "        text-align: right;\n",
                            "    }\n",
                            "</style>\n",
                            "<table border=\"1\" class=\"dataframe\">\n",
                            "  <thead>\n",
                            "    <tr style=\"text-align: right;\">\n",
                            "      <th></th>\n",
                            "      <th>STREET</th>\n",
                            "      <th>ZIP_CODE</th>\n",
                            "      <th>CITY</th>\n",
                            "    </tr>\n",
                            "  </thead>\n",
                            "  <tbody>\n",
                            "    <tr>\n",
                            "      <th>0</th>\n",
                            "      <td>Gut-Daemme-Strasse 1</td>\n",
                            "      <td>52070</td>\n",
                            "      <td>Aachen</td>\n",
                            "    </tr>\n",
                            "    <tr>\n",
                            "      <th>1</th>\n",
                            "      <td>Franziskanergasse 5</td>\n",
                            "      <td>92224</td>\n",
                            "      <td>Amberg</td>\n",
                            "    </tr>\n",
                            "    <tr>\n",
                            "      <th>2</th>\n",
                            "      <td>Pearl-S.-Buck-Strasse 12</td>\n",
                            "      <td>86156</td>\n",
                            "      <td>Augsburg</td>\n",
                            "    </tr>\n",
                            "    <tr>\n",
                            "      <th>3</th>\n",
                            "      <td>Albert-Schenavsky-Str. 2</td>\n",
                            "      <td>86165</td>\n",
                            "      <td>Augsburg</td>\n",
                            "    </tr>\n",
                            "    <tr>\n",
                            "      <th>4</th>\n",
                            "      <td>Maximilianstrasse 83</td>\n",
                            "      <td>95444</td>\n",
                            "      <td>Bayreuth</td>\n",
                            "    </tr>\n",
                            "    <tr>\n",
                            "      <th>5</th>\n",
                            "      <td>Hilda-Geiringer-Weg 4</td>\n",
                            "      <td>10557</td>\n",
                            "      <td>Berlin</td>\n",
                            "    </tr>\n",
                            "    <tr>\n",
                            "      <th>6</th>\n",
                            "      <td>Alt Mahlsdorf 88</td>\n",
                            "      <td>12623</td>\n",
                            "      <td>Berlin</td>\n",
                            "    </tr>\n",
                            "    <tr>\n",
                            "      <th>7</th>\n",
                            "      <td>Memhardstrasse 3</td>\n",
                            "      <td>10178</td>\n",
                            "      <td>Berlin</td>\n",
                            "    </tr>\n",
                            "    <tr>\n",
                            "      <th>8</th>\n",
                            "      <td>Mildred-Harnack-Str. 11</td>\n",
                            "      <td>10243</td>\n",
                            "      <td>Berlin</td>\n",
                            "    </tr>\n",
                            "    <tr>\n",
                            "      <th>9</th>\n",
                            "      <td>Savignyplatz 5</td>\n",
                            "      <td>10623</td>\n",
                            "      <td>Berlin</td>\n",
                            "    </tr>\n",
                            "  </tbody>\n",
                            "</table>\n",
                            "</div>"
                        ],
                        "text/plain": [
                            "                     STREET ZIP_CODE      CITY\n",
                            "0      Gut-Daemme-Strasse 1    52070    Aachen\n",
                            "1       Franziskanergasse 5    92224    Amberg\n",
                            "2  Pearl-S.-Buck-Strasse 12    86156  Augsburg\n",
                            "3  Albert-Schenavsky-Str. 2    86165  Augsburg\n",
                            "4      Maximilianstrasse 83    95444  Bayreuth\n",
                            "5     Hilda-Geiringer-Weg 4    10557    Berlin\n",
                            "6          Alt Mahlsdorf 88    12623    Berlin\n",
                            "7          Memhardstrasse 3    10178    Berlin\n",
                            "8   Mildred-Harnack-Str. 11    10243    Berlin\n",
                            "9            Savignyplatz 5    10623    Berlin"
                        ]
                    },
                    "metadata": {},
                    "execution_count": 1
                }
            ],
            "metadata": {}
        },
        {
            "cell_type": "markdown",
            "source": [
                "Alright, we have our first dataframe ready! It contains the address of each L'Osteria restaurant from the website, stating their address, ZIP code and city. However, if we want to visualize the restaurants or download information of their surrounding areas, we also need their GPS locations. \r\n",
                "<br>\r\n",
                "<br>\r\n",
                "Lucky for us, we can reverse engineer the address by using the service of Nominatim that we can access via the [Geopy](https://geopy.readthedocs.io/en/stable/) library. The following code takes our existing addresses and fetches their coordinates from the Nominatim API:"
            ],
            "metadata": {}
        },
        {
            "cell_type": "code",
            "execution_count": 2,
            "source": [
                "# Import working library\r\n",
                "from geopy.geocoders import Nominatim\r\n",
                "\r\n",
                "# Create new variable\r\n",
                "lats = []\r\n",
                "longs = []\r\n",
                "\r\n",
                "# Set geolocator and set user agent\r\n",
                "geolocator = Nominatim(user_agent=\"german_italian_restaurant_analysis\")\r\n",
                "\r\n",
                "# Get temporary df\r\n",
                "temp_df = restaurants.copy()\r\n",
                "\r\n",
                "# Loop through df and get addresses for coordinates\r\n",
                "for i in tqdm(range(len(temp_df))):\r\n",
                "    # Get address\r\n",
                "    address = temp_df.iloc[i, 0:1].values[0]\r\n",
                "    # Get ZIP code\r\n",
                "    zip_code = temp_df.iloc[i, 1:2].values[0]\r\n",
                "    # Get city\r\n",
                "    city = temp_df.iloc[i, 2:3].values[0]\r\n",
                "    # Define full address\r\n",
                "    full_address = \"{Address}, {ZIPCode}, {City}\".format(Address=address, ZIPCode=zip_code, City=city)\r\n",
                "    # Get full location details\r\n",
                "    location = geolocator.geocode(full_address)\r\n",
                "    # Check if location is empty\r\n",
                "    if location is not None:\r\n",
                "        # Get latitude\r\n",
                "        latitude = location.latitude\r\n",
                "        # Append latitude\r\n",
                "        lats.append(latitude)\r\n",
                "    # If empty, add 0\r\n",
                "    else:\r\n",
                "        # Ste lats to 0\r\n",
                "        latitude = 0\r\n",
                "        # Append latitude\r\n",
                "        lats.append(latitude)\r\n",
                "    # Check if location is empty\r\n",
                "    if location is not None:\r\n",
                "        # Get longitude\r\n",
                "        longitude = location.longitude\r\n",
                "        # Append longitude\r\n",
                "        longs.append(longitude)\r\n",
                "    # If empty, add 0\r\n",
                "    else:\r\n",
                "        longitude = 0\r\n",
                "        # Append finding to df\r\n",
                "        longs.append(longitude)\r\n",
                "\r\n",
                "\r\n",
                "# Add longs and lats to restaurant df\r\n",
                "restaurants['LATITUDE'] = lats\r\n",
                "restaurants['LONGITUDE'] = longs\r\n",
                "\r\n",
                "# Visualize\r\n",
                "restaurants.head()"
            ],
            "outputs": [
                {
                    "output_type": "stream",
                    "name": "stderr",
                    "text": [
                        "100%|██████████| 121/121 [01:02<00:00,  1.93it/s]\n"
                    ]
                },
                {
                    "output_type": "execute_result",
                    "data": {
                        "text/html": [
                            "<div>\n",
                            "<style scoped>\n",
                            "    .dataframe tbody tr th:only-of-type {\n",
                            "        vertical-align: middle;\n",
                            "    }\n",
                            "\n",
                            "    .dataframe tbody tr th {\n",
                            "        vertical-align: top;\n",
                            "    }\n",
                            "\n",
                            "    .dataframe thead th {\n",
                            "        text-align: right;\n",
                            "    }\n",
                            "</style>\n",
                            "<table border=\"1\" class=\"dataframe\">\n",
                            "  <thead>\n",
                            "    <tr style=\"text-align: right;\">\n",
                            "      <th></th>\n",
                            "      <th>STREET</th>\n",
                            "      <th>ZIP_CODE</th>\n",
                            "      <th>CITY</th>\n",
                            "      <th>LATITUDE</th>\n",
                            "      <th>LONGITUDE</th>\n",
                            "    </tr>\n",
                            "  </thead>\n",
                            "  <tbody>\n",
                            "    <tr>\n",
                            "      <th>0</th>\n",
                            "      <td>Gut-Daemme-Strasse 1</td>\n",
                            "      <td>52070</td>\n",
                            "      <td>Aachen</td>\n",
                            "      <td>50.797335</td>\n",
                            "      <td>6.107450</td>\n",
                            "    </tr>\n",
                            "    <tr>\n",
                            "      <th>1</th>\n",
                            "      <td>Franziskanergasse 5</td>\n",
                            "      <td>92224</td>\n",
                            "      <td>Amberg</td>\n",
                            "      <td>49.446234</td>\n",
                            "      <td>11.855468</td>\n",
                            "    </tr>\n",
                            "    <tr>\n",
                            "      <th>2</th>\n",
                            "      <td>Pearl-S.-Buck-Strasse 12</td>\n",
                            "      <td>86156</td>\n",
                            "      <td>Augsburg</td>\n",
                            "      <td>48.371837</td>\n",
                            "      <td>10.865182</td>\n",
                            "    </tr>\n",
                            "    <tr>\n",
                            "      <th>3</th>\n",
                            "      <td>Albert-Schenavsky-Str. 2</td>\n",
                            "      <td>86165</td>\n",
                            "      <td>Augsburg</td>\n",
                            "      <td>48.381857</td>\n",
                            "      <td>10.931547</td>\n",
                            "    </tr>\n",
                            "    <tr>\n",
                            "      <th>4</th>\n",
                            "      <td>Maximilianstrasse 83</td>\n",
                            "      <td>95444</td>\n",
                            "      <td>Bayreuth</td>\n",
                            "      <td>49.944196</td>\n",
                            "      <td>11.571159</td>\n",
                            "    </tr>\n",
                            "  </tbody>\n",
                            "</table>\n",
                            "</div>"
                        ],
                        "text/plain": [
                            "                     STREET ZIP_CODE      CITY   LATITUDE  LONGITUDE\n",
                            "0      Gut-Daemme-Strasse 1    52070    Aachen  50.797335   6.107450\n",
                            "1       Franziskanergasse 5    92224    Amberg  49.446234  11.855468\n",
                            "2  Pearl-S.-Buck-Strasse 12    86156  Augsburg  48.371837  10.865182\n",
                            "3  Albert-Schenavsky-Str. 2    86165  Augsburg  48.381857  10.931547\n",
                            "4      Maximilianstrasse 83    95444  Bayreuth  49.944196  11.571159"
                        ]
                    },
                    "metadata": {},
                    "execution_count": 2
                }
            ],
            "metadata": {}
        },
        {
            "cell_type": "markdown",
            "source": [
                "As we can see, downloading all GPS coordinates took us ~1 minute. Usually, this would be much faster. However, Nominatim sometimes cannot find the addresses provided which is why we have added a simple if loop in the code above to intercept these cases. Our loop adds a \"0\" to latitude and longitude when Nominatim cannot find the address. So let us check how many addresses are affected:"
            ],
            "metadata": {}
        },
        {
            "cell_type": "code",
            "execution_count": 3,
            "source": [
                "# Start counter\r\n",
                "counter = 0\r\n",
                "\r\n",
                "# Loop through dataset\r\n",
                "for i in tqdm(range(len(restaurants.index))):\r\n",
                "    # If 0 in latitude, print street name\r\n",
                "    if restaurants.iloc[i, 3:4].values[0] == 0:\r\n",
                "        # Print address\r\n",
                "        print(restaurants.iloc[i, 0:1].values[0])\r\n",
                "        # Add 1 to counter\r\n",
                "        counter += 1\r\n",
                "    # If large 0\r\n",
                "    else:\r\n",
                "        # Do nothing\r\n",
                "        continue\r\n",
                "\r\n",
                "# Spacer\r\n",
                "print() \r\n",
                "\r\n",
                "# Show counter\r\n",
                "print(\"We are missing coordinates for {counter} restaurants.\".format(counter=counter))\r\n",
                "\r\n",
                "# Calculate share of dataset\r\n",
                "print(\"That is {:.2f}% of our dataset.\".format(counter/121*100))"
            ],
            "outputs": [
                {
                    "output_type": "stream",
                    "name": "stderr",
                    "text": [
                        "100%|██████████| 121/121 [00:00<00:00, 5511.21it/s]"
                    ]
                },
                {
                    "output_type": "stream",
                    "name": "stdout",
                    "text": [
                        "Inder Suerst 3\n",
                        "Bra Wo-Allee 1\n",
                        "Otto-Lillienthal-Strasse 19\n",
                        "Speicherstrasse 1\n",
                        "Hanauer Landstrasse 110\n",
                        "Bleichenbruecke 9\n",
                        "Bruesseler Strasse 14\n",
                        "Ander Untertrave 111\n",
                        "Anden Reeperbahnen 2\n",
                        "Enzian Hoefe\n",
                        "Duesseldorferstrasse 162\n",
                        "Muehlstrasse 17\n",
                        "Am Hafendeck 6 - 8\n",
                        "Ander Vorburg 1\n",
                        "\n",
                        "We are missing coordinates for 14 restaurants.\n",
                        "That is 11.57% of our dataset.\n"
                    ]
                },
                {
                    "output_type": "stream",
                    "name": "stderr",
                    "text": [
                        "\n"
                    ]
                }
            ],
            "metadata": {}
        },
        {
            "cell_type": "markdown",
            "source": [
                "We can observe that 14 restaurants have no coordinates. A closer look at the respective addresses shows us that some of them are written wrongly (e.g. \"Ander Vorburg 1\" should be \"An der Vorburg 1\"). We could fix these addresses and run our code section again, however, the amount of remaining restaurants with correct coordinates should be more than enough for our analysis. We will therefore exclude restaurants with missing coordinates from our data set:"
            ],
            "metadata": {}
        },
        {
            "cell_type": "code",
            "execution_count": 4,
            "source": [
                "# Get indexed with lat == 0\r\n",
                "index_names = restaurants[(restaurants['LATITUDE'] == 0 )].index\r\n",
                "\r\n",
                "# Kick out entries with lat == 0\r\n",
                "restaurants.drop(index_names, inplace=True) \r\n",
                "\r\n",
                "# Reset index\r\n",
                "restaurants.reset_index(drop=True, inplace=True)\r\n",
                "\r\n",
                "# Visualize\r\n",
                "print(restaurants.shape)\r\n",
                "restaurants.head()"
            ],
            "outputs": [
                {
                    "output_type": "stream",
                    "name": "stdout",
                    "text": [
                        "(107, 5)\n"
                    ]
                },
                {
                    "output_type": "execute_result",
                    "data": {
                        "text/html": [
                            "<div>\n",
                            "<style scoped>\n",
                            "    .dataframe tbody tr th:only-of-type {\n",
                            "        vertical-align: middle;\n",
                            "    }\n",
                            "\n",
                            "    .dataframe tbody tr th {\n",
                            "        vertical-align: top;\n",
                            "    }\n",
                            "\n",
                            "    .dataframe thead th {\n",
                            "        text-align: right;\n",
                            "    }\n",
                            "</style>\n",
                            "<table border=\"1\" class=\"dataframe\">\n",
                            "  <thead>\n",
                            "    <tr style=\"text-align: right;\">\n",
                            "      <th></th>\n",
                            "      <th>STREET</th>\n",
                            "      <th>ZIP_CODE</th>\n",
                            "      <th>CITY</th>\n",
                            "      <th>LATITUDE</th>\n",
                            "      <th>LONGITUDE</th>\n",
                            "    </tr>\n",
                            "  </thead>\n",
                            "  <tbody>\n",
                            "    <tr>\n",
                            "      <th>0</th>\n",
                            "      <td>Gut-Daemme-Strasse 1</td>\n",
                            "      <td>52070</td>\n",
                            "      <td>Aachen</td>\n",
                            "      <td>50.797335</td>\n",
                            "      <td>6.107450</td>\n",
                            "    </tr>\n",
                            "    <tr>\n",
                            "      <th>1</th>\n",
                            "      <td>Franziskanergasse 5</td>\n",
                            "      <td>92224</td>\n",
                            "      <td>Amberg</td>\n",
                            "      <td>49.446234</td>\n",
                            "      <td>11.855468</td>\n",
                            "    </tr>\n",
                            "    <tr>\n",
                            "      <th>2</th>\n",
                            "      <td>Pearl-S.-Buck-Strasse 12</td>\n",
                            "      <td>86156</td>\n",
                            "      <td>Augsburg</td>\n",
                            "      <td>48.371837</td>\n",
                            "      <td>10.865182</td>\n",
                            "    </tr>\n",
                            "    <tr>\n",
                            "      <th>3</th>\n",
                            "      <td>Albert-Schenavsky-Str. 2</td>\n",
                            "      <td>86165</td>\n",
                            "      <td>Augsburg</td>\n",
                            "      <td>48.381857</td>\n",
                            "      <td>10.931547</td>\n",
                            "    </tr>\n",
                            "    <tr>\n",
                            "      <th>4</th>\n",
                            "      <td>Maximilianstrasse 83</td>\n",
                            "      <td>95444</td>\n",
                            "      <td>Bayreuth</td>\n",
                            "      <td>49.944196</td>\n",
                            "      <td>11.571159</td>\n",
                            "    </tr>\n",
                            "  </tbody>\n",
                            "</table>\n",
                            "</div>"
                        ],
                        "text/plain": [
                            "                     STREET ZIP_CODE      CITY   LATITUDE  LONGITUDE\n",
                            "0      Gut-Daemme-Strasse 1    52070    Aachen  50.797335   6.107450\n",
                            "1       Franziskanergasse 5    92224    Amberg  49.446234  11.855468\n",
                            "2  Pearl-S.-Buck-Strasse 12    86156  Augsburg  48.371837  10.865182\n",
                            "3  Albert-Schenavsky-Str. 2    86165  Augsburg  48.381857  10.931547\n",
                            "4      Maximilianstrasse 83    95444  Bayreuth  49.944196  11.571159"
                        ]
                    },
                    "metadata": {},
                    "execution_count": 4
                }
            ],
            "metadata": {}
        },
        {
            "cell_type": "markdown",
            "source": [
                "Great! Our L'Osteria data seems to be ready for further analysis. However, before moving on, we will conduct a last check and visualize the GPS coordinates on a map. There are a lot of different ways to visualize geospatial data on a map via Python. For this project, we will use the [Kepler.gl](https://kepler.gl/) tool. It is build on [Mapbox](https://www.mapbox.com/) and can visualize millions of data points as well as has an aggregation function that can be handy for analysis. "
            ],
            "metadata": {}
        },
        {
            "cell_type": "code",
            "execution_count": 5,
            "source": [
                "# Load an empty map\r\n",
                "from keplergl import KeplerGl\r\n",
                "losteria_map = KeplerGl(height=600)\r\n",
                "\r\n",
                "#Load config\r\n",
                "config = {'version': 'v1', 'config': {'visState': {'filters': [], 'layers': [{'id': '73uc1wa', 'type': 'point', 'config': {'dataId': 'losteria_restaurants', 'label': 'LOSTERIA_RESTAURANTS', 'color': [181, 18, 65], 'columns': {'lat': 'LATITUDE', 'lng': 'LONGITUDE', 'altitude': None}, 'isVisible': True, 'visConfig': {'radius': 10, 'fixedRadius': False, 'opacity': 0.5, 'outline': False, 'thickness': 2, 'strokeColor': None, 'colorRange': {'name': 'Global Warming', 'type': 'sequential', 'category': 'Uber', 'colors': ['#5A1846', '#900C3F', '#C70039', '#E3611C', '#F1920E', '#FFC300']}, 'strokeColorRange': {'name': 'Global Warming', 'type': 'sequential', 'category': 'Uber', 'colors': ['#5A1846', '#900C3F', '#C70039', '#E3611C', '#F1920E', '#FFC300']}, 'radiusRange': [0, 50], 'filled': True}, 'hidden': False, 'textLabel': [{'field': None, 'color': [255, 255, 255], 'size': 18, 'offset': [0, 0], 'anchor': 'start', 'alignment': 'center'}]}, 'visualChannels': {'colorField': None, 'colorScale': 'quantile', 'strokeColorField': None, 'strokeColorScale': 'quantile', 'sizeField': None, 'sizeScale': 'linear'}}], 'interactionConfig': {'tooltip': {'fieldsToShow': {'losteria_restaurants': [{'name': 'STREET', 'format': None}, {'name': 'ZIP_CODE', 'format': None}, {'name': 'CITY', 'format': None}, {'name': 'LATITUDE', 'format': None}, {'name': 'LONGITUDE', 'format': None}]}, 'compareMode': False, 'compareType': 'absolute', 'enabled': True}, 'brush': {'size': 0, 'enabled': False}, 'geocoder': {'enabled': False}, 'coordinate': {'enabled': False}}, 'layerBlending': 'normal', 'splitMaps': [], 'animationConfig': {'currentTime': None, 'speed': 1}}, 'mapState': {'bearing': 0, 'dragRotate': False, 'latitude': 50.489182321984785, 'longitude': 11.880129742841573, 'pitch': 0, 'zoom': 4.289649820829549, 'isSplit': False}, 'mapStyle': {'styleType': 'light', 'topLayerGroups': {}, 'visibleLayerGroups': {'label': True, 'road': True, 'border': True, 'building': True, 'water': True, 'land': True, '3d building': False}, 'threeDBuildingColor': [218.82023004728686, 223.47597962276103, 223.47597962276103], 'mapStyles': {}}}}\r\n",
                "\r\n",
                "# Add data\r\n",
                "losteria_map.add_data(data=restaurants, name='losteria_restaurants')\r\n",
                "\r\n",
                "# Add config\r\n",
                "losteria_map.config = config\r\n",
                "\r\n",
                "# Execute\r\n",
                "losteria_map"
            ],
            "outputs": [
                {
                    "output_type": "stream",
                    "name": "stdout",
                    "text": [
                        "User Guide: https://docs.kepler.gl/docs/keplergl-jupyter\n"
                    ]
                },
                {
                    "output_type": "display_data",
                    "data": {
                        "application/vnd.jupyter.widget-view+json": {
                            "version_major": 2,
                            "version_minor": 0,
                            "model_id": "034ff919ddd345d18827ef445898963e"
                        },
                        "text/plain": [
                            "KeplerGl(config={'version': 'v1', 'config': {'visState': {'filters': [], 'layers': [{'id': '73uc1wa', 'type': …"
                        ]
                    },
                    "metadata": {}
                }
            ],
            "metadata": {}
        },
        {
            "cell_type": "markdown",
            "source": [
                "The first thing that catches our eye is that all restaurants seem to be located in Germany. That is odd as we know that the chain has expanded to other European countries already. So what went wrong? After checking the L'Osteria website again, we can see that international restaurants are shown on a different list that we have not downloaded yet. However, as the amount of international restaurants is still small and we should have sufficient data already, we can choose to ignore them for now in order to keep the data set simpler. \r\n",
                "<br>\r\n",
                "<br>\r\n",
                "Second, we can observe that the majority of restaurants is located in the west and south of Germany. It is especially interesting to see that there is a very high concentration of restaurants in North Rhine Westphalia (the state next to The Netherlands and Belgium). We should keep that in mind during our further analysis as there seems to be something interesting about that region."
            ],
            "metadata": {}
        },
        {
            "cell_type": "markdown",
            "source": [
                "## UBER H3 \r\n",
                "I was lucky enough to travel a lot in my youth but it is still impossible for me to tell whether a restaurant is located in a trendy neighborhood or not. To draw any conclusions on the neighborhoods the restaurants are located in, I would have to google their locations and research the respective city as a whole. However, L'Osteria has over 120 restaurants in Europe - it would therefore take me days or even weeks to conduct a respective analysis. \r\n",
                "<br>\r\n",
                "<br>\r\n",
                "Since this is anything else but ressource efficient, we have to find a way of speeding things up. In order to analyse the location of each restaurant, we need to define a radius from which we want to draw conclusions from. One approach would be to get shapefiles for each neighborhood in each city L'Osteria has a restaurant in and then download information related to these neigborhoods. But good luck trying to get these shapefile for Germany. Here, every state has its own data service - one more confusing than the other. Collecting the necessary data would take weeks and provide us with a minimal granularity.\r\n",
                "<br>\r\n",
                "<br>\r\n",
                "This is where Uber's H3 hexagonial mapping framework comes in play. At its core, H3 is a geospatial analysis tool that provides a global index of hirachically ordered hexagons. Just imagine that you would map the entire earth (pole to pole) in hexagonial polygons. Now, each hexagon would receive a unique ID so that you could exactly tell what place on earth belongs to which hexagon. And finally, think of different layers of hexagons. Each layer is much smaller and more precise, enabling you to drill up and down on your map. That is exactly what H3 does - it provides you unique hexagons with different resolutions, all the way down to a precision of 0.0000009 km² area. \r\n",
                "<br>\r\n",
                "<br>\r\n",
                "So how is this helping us? By knowing the GPS coordinates of the L'Osteria restaurants, we can assign them to an unique hexagon. This hexagon will then serve as our designated radius for which we will download further data for our analysis. The H3 framework also helps us to map any city on earth with the same size of hexagons, making it easier for us to compare our results. \r\n",
                "<br>\r\n",
                "<br>\r\n",
                "But enough of the chit-chat! Let us begin with mapping the coordinates of our L'Osteria restaurants against the H3 index. To do so, we can simply use the [H3 library](https://github.com/uber/h3-py). The library provides a function that does the mapping for us. However, besides providing the coordinates, we also need to define the resolution of the hexagon we want to map with. The H3 index has 16 unique [resolutions](https://h3geo.org/docs/core-library/restable/) that we can choose from:"
            ],
            "metadata": {}
        },
        {
            "cell_type": "code",
            "execution_count": 6,
            "source": [
                "# Fetch table from H3 geo website\r\n",
                "h3_resolution_table = pd.read_html('https://h3geo.org/docs/core-library/restable/')\r\n",
                "\r\n",
                "# Visualize\r\n",
                "h3_resolution_table[0]"
            ],
            "outputs": [
                {
                    "output_type": "execute_result",
                    "data": {
                        "text/html": [
                            "<div>\n",
                            "<style scoped>\n",
                            "    .dataframe tbody tr th:only-of-type {\n",
                            "        vertical-align: middle;\n",
                            "    }\n",
                            "\n",
                            "    .dataframe tbody tr th {\n",
                            "        vertical-align: top;\n",
                            "    }\n",
                            "\n",
                            "    .dataframe thead th {\n",
                            "        text-align: right;\n",
                            "    }\n",
                            "</style>\n",
                            "<table border=\"1\" class=\"dataframe\">\n",
                            "  <thead>\n",
                            "    <tr style=\"text-align: right;\">\n",
                            "      <th></th>\n",
                            "      <th>H3 Resolution</th>\n",
                            "      <th>Average Hexagon Area (km2)</th>\n",
                            "      <th>Average Hexagon Edge Length (km)</th>\n",
                            "      <th>Number of unique indexes</th>\n",
                            "    </tr>\n",
                            "  </thead>\n",
                            "  <tbody>\n",
                            "    <tr>\n",
                            "      <th>0</th>\n",
                            "      <td>0</td>\n",
                            "      <td>4.250547e+06</td>\n",
                            "      <td>1107.712591</td>\n",
                            "      <td>122</td>\n",
                            "    </tr>\n",
                            "    <tr>\n",
                            "      <th>1</th>\n",
                            "      <td>1</td>\n",
                            "      <td>6.072210e+05</td>\n",
                            "      <td>418.676005</td>\n",
                            "      <td>842</td>\n",
                            "    </tr>\n",
                            "    <tr>\n",
                            "      <th>2</th>\n",
                            "      <td>2</td>\n",
                            "      <td>8.674585e+04</td>\n",
                            "      <td>158.244656</td>\n",
                            "      <td>5882</td>\n",
                            "    </tr>\n",
                            "    <tr>\n",
                            "      <th>3</th>\n",
                            "      <td>3</td>\n",
                            "      <td>1.239226e+04</td>\n",
                            "      <td>59.810858</td>\n",
                            "      <td>41162</td>\n",
                            "    </tr>\n",
                            "    <tr>\n",
                            "      <th>4</th>\n",
                            "      <td>4</td>\n",
                            "      <td>1.770324e+03</td>\n",
                            "      <td>22.606379</td>\n",
                            "      <td>288122</td>\n",
                            "    </tr>\n",
                            "    <tr>\n",
                            "      <th>5</th>\n",
                            "      <td>5</td>\n",
                            "      <td>2.529034e+02</td>\n",
                            "      <td>8.544408</td>\n",
                            "      <td>2016842</td>\n",
                            "    </tr>\n",
                            "    <tr>\n",
                            "      <th>6</th>\n",
                            "      <td>6</td>\n",
                            "      <td>3.612905e+01</td>\n",
                            "      <td>3.229483</td>\n",
                            "      <td>14117882</td>\n",
                            "    </tr>\n",
                            "    <tr>\n",
                            "      <th>7</th>\n",
                            "      <td>7</td>\n",
                            "      <td>5.161293e+00</td>\n",
                            "      <td>1.220630</td>\n",
                            "      <td>98825162</td>\n",
                            "    </tr>\n",
                            "    <tr>\n",
                            "      <th>8</th>\n",
                            "      <td>8</td>\n",
                            "      <td>7.373276e-01</td>\n",
                            "      <td>0.461355</td>\n",
                            "      <td>691776122</td>\n",
                            "    </tr>\n",
                            "    <tr>\n",
                            "      <th>9</th>\n",
                            "      <td>9</td>\n",
                            "      <td>1.053325e-01</td>\n",
                            "      <td>0.174376</td>\n",
                            "      <td>4842432842</td>\n",
                            "    </tr>\n",
                            "    <tr>\n",
                            "      <th>10</th>\n",
                            "      <td>10</td>\n",
                            "      <td>1.504750e-02</td>\n",
                            "      <td>0.065908</td>\n",
                            "      <td>33897029882</td>\n",
                            "    </tr>\n",
                            "    <tr>\n",
                            "      <th>11</th>\n",
                            "      <td>11</td>\n",
                            "      <td>2.149600e-03</td>\n",
                            "      <td>0.024911</td>\n",
                            "      <td>237279209162</td>\n",
                            "    </tr>\n",
                            "    <tr>\n",
                            "      <th>12</th>\n",
                            "      <td>12</td>\n",
                            "      <td>3.071000e-04</td>\n",
                            "      <td>0.009416</td>\n",
                            "      <td>1660954464122</td>\n",
                            "    </tr>\n",
                            "    <tr>\n",
                            "      <th>13</th>\n",
                            "      <td>13</td>\n",
                            "      <td>4.390000e-05</td>\n",
                            "      <td>0.003560</td>\n",
                            "      <td>11626681248842</td>\n",
                            "    </tr>\n",
                            "    <tr>\n",
                            "      <th>14</th>\n",
                            "      <td>14</td>\n",
                            "      <td>6.300000e-06</td>\n",
                            "      <td>0.001349</td>\n",
                            "      <td>81386768741882</td>\n",
                            "    </tr>\n",
                            "    <tr>\n",
                            "      <th>15</th>\n",
                            "      <td>15</td>\n",
                            "      <td>9.000000e-07</td>\n",
                            "      <td>0.000510</td>\n",
                            "      <td>569707381193162</td>\n",
                            "    </tr>\n",
                            "  </tbody>\n",
                            "</table>\n",
                            "</div>"
                        ],
                        "text/plain": [
                            "    H3 Resolution  Average Hexagon Area (km2)  \\\n",
                            "0               0                4.250547e+06   \n",
                            "1               1                6.072210e+05   \n",
                            "2               2                8.674585e+04   \n",
                            "3               3                1.239226e+04   \n",
                            "4               4                1.770324e+03   \n",
                            "5               5                2.529034e+02   \n",
                            "6               6                3.612905e+01   \n",
                            "7               7                5.161293e+00   \n",
                            "8               8                7.373276e-01   \n",
                            "9               9                1.053325e-01   \n",
                            "10             10                1.504750e-02   \n",
                            "11             11                2.149600e-03   \n",
                            "12             12                3.071000e-04   \n",
                            "13             13                4.390000e-05   \n",
                            "14             14                6.300000e-06   \n",
                            "15             15                9.000000e-07   \n",
                            "\n",
                            "    Average Hexagon Edge Length (km)  Number of unique indexes  \n",
                            "0                        1107.712591                       122  \n",
                            "1                         418.676005                       842  \n",
                            "2                         158.244656                      5882  \n",
                            "3                          59.810858                     41162  \n",
                            "4                          22.606379                    288122  \n",
                            "5                           8.544408                   2016842  \n",
                            "6                           3.229483                  14117882  \n",
                            "7                           1.220630                  98825162  \n",
                            "8                           0.461355                 691776122  \n",
                            "9                           0.174376                4842432842  \n",
                            "10                          0.065908               33897029882  \n",
                            "11                          0.024911              237279209162  \n",
                            "12                          0.009416             1660954464122  \n",
                            "13                          0.003560            11626681248842  \n",
                            "14                          0.001349            81386768741882  \n",
                            "15                          0.000510           569707381193162  "
                        ]
                    },
                    "metadata": {},
                    "execution_count": 6
                }
            ],
            "metadata": {}
        },
        {
            "cell_type": "markdown",
            "source": [
                "As described above, the resolution goes all the way down to 0.0000009 km² or 0.9 m² respectively. That is extremely small and would not serve our purpose well as we aim to analyze larger areas around our restaurants. By looking at a map, we can visually see that the H3 resolution 7 with an area of roughly 5km² could be a good fit as it should cover the restaurants' general catchment area. \r\n",
                "<br>\r\n",
                "<br>\r\n",
                "In the following step, we will download the unique hexagons for each restaurant and visualize them on our kepler map:"
            ],
            "metadata": {}
        },
        {
            "cell_type": "code",
            "execution_count": 7,
            "source": [
                "# Import working directories\r\n",
                "import h3\r\n",
                "\r\n",
                "# Creat empty variable\r\n",
                "h3_indexes = []\r\n",
                "\r\n",
                "# Download H3 indexes\r\n",
                "for i in tqdm(range(len(restaurants.index))):\r\n",
                "    # Get lat\r\n",
                "    lat = restaurants.iloc[i, 3:4][0]\r\n",
                "    # Get lng\r\n",
                "    lng = restaurants.iloc[i, 4:5][0]\r\n",
                "    # Get H3 index\r\n",
                "    h3_index = h3.geo_to_h3(\r\n",
                "        lat=lat,\r\n",
                "        lng=lng,\r\n",
                "        resolution=7\r\n",
                "    )\r\n",
                "    # Store in variable\r\n",
                "    h3_indexes.append(h3_index)\r\n",
                "\r\n",
                "# Store in restaurants variable\r\n",
                "restaurants['H3_INDEX'] = h3_indexes\r\n",
                "\r\n",
                "# Visualize\r\n",
                "from keplergl import KeplerGl\r\n",
                "losteria_map_v2 = KeplerGl(height=600)\r\n",
                "config = {'version': 'v1', 'config': {'visState': {'filters': [], 'layers': [{'id': 've9o5ju', 'type': 'hexagonId', 'config': {'dataId': 'losteria_restaurants', 'label': 'LOSTERIA_RESTAURANTS_HEXAGONS', 'color': [249, 196, 196], 'columns': {'hex_id': 'H3_INDEX'}, 'isVisible': True, 'visConfig': {'opacity': 0.5, 'colorRange': {'name': 'Global Warming', 'type': 'sequential', 'category': 'Uber', 'colors': ['#5A1846', '#900C3F', '#C70039', '#E3611C', '#F1920E', '#FFC300']}, 'coverage': 1, 'enable3d': False, 'sizeRange': [0, 500], 'coverageRange': [0, 1], 'elevationScale': 5, 'enableElevationZoomFactor': True}, 'hidden': False, 'textLabel': [{'field': None, 'color': [255, 255, 255], 'size': 18, 'offset': [0, 0], 'anchor': 'start', 'alignment': 'center'}]}, 'visualChannels': {'colorField': None, 'colorScale': 'quantile', 'sizeField': None, 'sizeScale': 'linear', 'coverageField': None, 'coverageScale': 'linear'}}, {'id': '73uc1wa', 'type': 'point', 'config': {'dataId': 'losteria_restaurants', 'label': 'LOSTERIA_RESTAURANTS', 'color': [181, 18, 65], 'columns': {'lat': 'LATITUDE', 'lng': 'LONGITUDE', 'altitude': None}, 'isVisible': True, 'visConfig': {'radius': 10, 'fixedRadius': False, 'opacity': 0.5, 'outline': False, 'thickness': 2, 'strokeColor': None, 'colorRange': {'name': 'Global Warming', 'type': 'sequential', 'category': 'Uber', 'colors': ['#5A1846', '#900C3F', '#C70039', '#E3611C', '#F1920E', '#FFC300']}, 'strokeColorRange': {'name': 'Global Warming', 'type': 'sequential', 'category': 'Uber', 'colors': ['#5A1846', '#900C3F', '#C70039', '#E3611C', '#F1920E', '#FFC300']}, 'radiusRange': [0, 50], 'filled': True}, 'hidden': False, 'textLabel': [{'field': None, 'color': [255, 255, 255], 'size': 18, 'offset': [0, 0], 'anchor': 'start', 'alignment': 'center'}]}, 'visualChannels': {'colorField': None, 'colorScale': 'quantile', 'strokeColorField': None, 'strokeColorScale': 'quantile', 'sizeField': None, 'sizeScale': 'linear'}}], 'interactionConfig': {'tooltip': {'fieldsToShow': {'losteria_restaurants': [{'name': 'STREET', 'format': None}, {'name': 'ZIP_CODE', 'format': None}, {'name': 'CITY', 'format': None}, {'name': 'LATITUDE', 'format': None}, {'name': 'LONGITUDE', 'format': None}]}, 'compareMode': False, 'compareType': 'absolute', 'enabled': True}, 'brush': {'size': 0, 'enabled': False}, 'geocoder': {'enabled': False}, 'coordinate': {'enabled': False}}, 'layerBlending': 'normal', 'splitMaps': [], 'animationConfig': {'currentTime': None, 'speed': 1}}, 'mapState': {'bearing': 0, 'dragRotate': False, 'latitude': 53.56581943999632, 'longitude': 9.954395594799491, 'pitch': 0, 'zoom': 11.223547206164303, 'isSplit': False}, 'mapStyle': {'styleType': 'light', 'topLayerGroups': {}, 'visibleLayerGroups': {'label': True, 'road': True, 'border': True, 'building': True, 'water': True, 'land': True, '3d building': False}, 'threeDBuildingColor': [218.82023004728686, 223.47597962276103, 223.47597962276103], 'mapStyles': {}}}}\r\n",
                "losteria_map_v2.add_data(data=restaurants, name='losteria_restaurants') # refresh data\r\n",
                "losteria_map_v2.config = config # refresh config\r\n",
                "losteria_map_v2 # execute"
            ],
            "outputs": [
                {
                    "output_type": "stream",
                    "name": "stderr",
                    "text": [
                        "100%|██████████| 107/107 [00:00<00:00, 2680.64it/s]"
                    ]
                },
                {
                    "output_type": "stream",
                    "name": "stdout",
                    "text": [
                        "User Guide: https://docs.kepler.gl/docs/keplergl-jupyter\n"
                    ]
                },
                {
                    "output_type": "stream",
                    "name": "stderr",
                    "text": [
                        "\n"
                    ]
                },
                {
                    "output_type": "display_data",
                    "data": {
                        "application/vnd.jupyter.widget-view+json": {
                            "version_major": 2,
                            "version_minor": 0,
                            "model_id": "373b236c0509497a8a89a02734f389f0"
                        },
                        "text/plain": [
                            "KeplerGl(config={'version': 'v1', 'config': {'visState': {'filters': [], 'layers': [{'id': 've9o5ju', 'type': …"
                        ]
                    },
                    "metadata": {}
                }
            ],
            "metadata": {}
        },
        {
            "cell_type": "markdown",
            "source": [
                "When we zoom in (e.g. to the city of Hamburg), we can observe that we have successfully added the hexagons to our restaurants' locations. However, we can see that the hexagons are not centered around our restaurants' locations and thus cover large areas that probably do not account as the restaurants't catchment areas. To fix this issue, we will step down in our resolution and check again:"
            ],
            "metadata": {}
        },
        {
            "cell_type": "code",
            "execution_count": 8,
            "source": [
                "# Import working directories\r\n",
                "import h3\r\n",
                "\r\n",
                "# Creat empty variable\r\n",
                "h3_indexes = []\r\n",
                "\r\n",
                "# Download H3 indexes\r\n",
                "for i in tqdm(range(len(restaurants.index))):\r\n",
                "    # Get lat\r\n",
                "    lat = restaurants.iloc[i, 3:4][0]\r\n",
                "    # Get lng\r\n",
                "    lng = restaurants.iloc[i, 4:5][0]\r\n",
                "    # Get H3 index\r\n",
                "    h3_index = h3.geo_to_h3(\r\n",
                "        lat=lat,\r\n",
                "        lng=lng,\r\n",
                "        resolution=9\r\n",
                "    )\r\n",
                "    # Store in variable\r\n",
                "    h3_indexes.append(h3_index)\r\n",
                "\r\n",
                "# Store in restaurants variable\r\n",
                "restaurants['H3_INDEX'] = h3_indexes\r\n",
                "\r\n",
                "# Visualize\r\n",
                "from keplergl import KeplerGl\r\n",
                "losteria_map_v3 = KeplerGl(height=600)\r\n",
                "config = {'version': 'v1', 'config': {'visState': {'filters': [], 'layers': [{'id': 've9o5ju', 'type': 'hexagonId', 'config': {'dataId': 'losteria_restaurants', 'label': 'LOSTERIA_RESTAURANTS_HEXAGONS', 'color': [249, 196, 196], 'columns': {'hex_id': 'H3_INDEX'}, 'isVisible': True, 'visConfig': {'opacity': 0.5, 'colorRange': {'name': 'Global Warming', 'type': 'sequential', 'category': 'Uber', 'colors': ['#5A1846', '#900C3F', '#C70039', '#E3611C', '#F1920E', '#FFC300']}, 'coverage': 1, 'enable3d': False, 'sizeRange': [0, 500], 'coverageRange': [0, 1], 'elevationScale': 5, 'enableElevationZoomFactor': True}, 'hidden': False, 'textLabel': [{'field': None, 'color': [255, 255, 255], 'size': 18, 'offset': [0, 0], 'anchor': 'start', 'alignment': 'center'}]}, 'visualChannels': {'colorField': None, 'colorScale': 'quantile', 'sizeField': None, 'sizeScale': 'linear', 'coverageField': None, 'coverageScale': 'linear'}}, {'id': '73uc1wa', 'type': 'point', 'config': {'dataId': 'losteria_restaurants', 'label': 'LOSTERIA_RESTAURANTS', 'color': [181, 18, 65], 'columns': {'lat': 'LATITUDE', 'lng': 'LONGITUDE', 'altitude': None}, 'isVisible': True, 'visConfig': {'radius': 10, 'fixedRadius': False, 'opacity': 0.5, 'outline': False, 'thickness': 2, 'strokeColor': None, 'colorRange': {'name': 'Global Warming', 'type': 'sequential', 'category': 'Uber', 'colors': ['#5A1846', '#900C3F', '#C70039', '#E3611C', '#F1920E', '#FFC300']}, 'strokeColorRange': {'name': 'Global Warming', 'type': 'sequential', 'category': 'Uber', 'colors': ['#5A1846', '#900C3F', '#C70039', '#E3611C', '#F1920E', '#FFC300']}, 'radiusRange': [0, 50], 'filled': True}, 'hidden': False, 'textLabel': [{'field': None, 'color': [255, 255, 255], 'size': 18, 'offset': [0, 0], 'anchor': 'start', 'alignment': 'center'}]}, 'visualChannels': {'colorField': None, 'colorScale': 'quantile', 'strokeColorField': None, 'strokeColorScale': 'quantile', 'sizeField': None, 'sizeScale': 'linear'}}], 'interactionConfig': {'tooltip': {'fieldsToShow': {'losteria_restaurants': [{'name': 'STREET', 'format': None}, {'name': 'ZIP_CODE', 'format': None}, {'name': 'CITY', 'format': None}, {'name': 'LATITUDE', 'format': None}, {'name': 'LONGITUDE', 'format': None}]}, 'compareMode': False, 'compareType': 'absolute', 'enabled': True}, 'brush': {'size': 0, 'enabled': False}, 'geocoder': {'enabled': False}, 'coordinate': {'enabled': False}}, 'layerBlending': 'normal', 'splitMaps': [], 'animationConfig': {'currentTime': None, 'speed': 1}}, 'mapState': {'bearing': 0, 'dragRotate': False, 'latitude': 53.56581943999632, 'longitude': 9.954395594799491, 'pitch': 0, 'zoom': 11.223547206164303, 'isSplit': False}, 'mapStyle': {'styleType': 'light', 'topLayerGroups': {}, 'visibleLayerGroups': {'label': True, 'road': True, 'border': True, 'building': True, 'water': True, 'land': True, '3d building': False}, 'threeDBuildingColor': [218.82023004728686, 223.47597962276103, 223.47597962276103], 'mapStyles': {}}}}\r\n",
                "losteria_map_v3.add_data(data=restaurants, name='losteria_restaurants') # refresh data\r\n",
                "losteria_map_v3.config = config # refresh config\r\n",
                "losteria_map_v3 # execute"
            ],
            "outputs": [
                {
                    "output_type": "stream",
                    "name": "stderr",
                    "text": [
                        "100%|██████████| 107/107 [00:00<00:00, 2614.95it/s]"
                    ]
                },
                {
                    "output_type": "stream",
                    "name": "stdout",
                    "text": [
                        "User Guide: https://docs.kepler.gl/docs/keplergl-jupyter\n"
                    ]
                },
                {
                    "output_type": "stream",
                    "name": "stderr",
                    "text": [
                        "\n"
                    ]
                },
                {
                    "output_type": "display_data",
                    "data": {
                        "application/vnd.jupyter.widget-view+json": {
                            "version_major": 2,
                            "version_minor": 0,
                            "model_id": "27828c10e1a64b1b8f964dc7c120c285"
                        },
                        "text/plain": [
                            "KeplerGl(config={'version': 'v1', 'config': {'visState': {'filters': [], 'layers': [{'id': 've9o5ju', 'type': …"
                        ]
                    },
                    "metadata": {}
                }
            ],
            "metadata": {}
        },
        {
            "cell_type": "markdown",
            "source": [
                "We have now used resolution 9 which is covering an area of a little bit more than 0.1km². We can observe that the hexagons are now lying much closer to our locations. However, we still have the problem that the hexagons' centers are far away from our restaurants' locations. We now also have the problem that they cover a much smaller area that would give us less information and might poorly reflect the catchment area of our restaurants. To counter these issues, we will download the hexagons' neighbours and assign them to our data frame. This way we will expand our search radius."
            ],
            "metadata": {}
        },
        {
            "cell_type": "code",
            "execution_count": 9,
            "source": [
                "# Degree of neighbouring hexagons\r\n",
                "k_neighbours = 2\r\n",
                "\r\n",
                "# Creat empty variable\r\n",
                "h3_indexes = pd.DataFrame()\r\n",
                "\r\n",
                "# Get neighbours per hexagon\r\n",
                "for i in tqdm(range(len(restaurants.index))):\r\n",
                "    # Get H3 index\r\n",
                "    h3_index = restaurants.iloc[i, 5:6][0]\r\n",
                "    # Get neighbouring hexagon indexes\r\n",
                "    h3_neighbours = h3.k_ring(h3_index, k_neighbours)\r\n",
                "    # Convert to df\r\n",
                "    h3_neighbours = pd.DataFrame(h3_neighbours)\r\n",
                "    # Get restaurant information\r\n",
                "    street = restaurants.iloc[i, 0:1][0]\r\n",
                "    zip_code = restaurants.iloc[i, 1:2][0]\r\n",
                "    city = restaurants.iloc[i, 2:3][0]\r\n",
                "    lat = restaurants.iloc[i, 3:4][0]\r\n",
                "    lng = restaurants.iloc[i, 4:5][0]\r\n",
                "    # Store in df\r\n",
                "    h3_neighbours['STREET'] = street\r\n",
                "    h3_neighbours['ZIP_CODE'] = zip_code\r\n",
                "    h3_neighbours['CITY'] = city\r\n",
                "    h3_neighbours['LATITUDE'] = lat\r\n",
                "    h3_neighbours['LONGITUDE'] = lng\r\n",
                "    # Append empty variable\r\n",
                "    h3_indexes = h3_indexes.append(h3_neighbours)\r\n",
                "\r\n",
                "# Rename column\r\n",
                "h3_indexes.rename(columns={0:'H3_INDEX'}, inplace=True)\r\n",
                "\r\n",
                "# Reset index\r\n",
                "h3_indexes.reset_index(drop=True, inplace=True)\r\n",
                "\r\n",
                "# Merge with restaurants variable\r\n",
                "restaurants_hexagons = restaurants.merge(h3_indexes, how='right', on=['STREET','ZIP_CODE', 'CITY', 'LATITUDE', 'LONGITUDE', 'H3_INDEX'])\r\n",
                "\r\n",
                "# Visualize\r\n",
                "from keplergl import KeplerGl\r\n",
                "losteria_map_v4 = KeplerGl(height=600)\r\n",
                "config = {'version': 'v1', 'config': {'visState': {'filters': [], 'layers': [{'id': '73uc1wa', 'type': 'point', 'config': {'dataId': 'losteria_restaurants', 'label': 'LOSTERIA_RESTAURANTS', 'color': [181, 18, 65], 'columns': {'lat': 'LATITUDE', 'lng': 'LONGITUDE', 'altitude': None}, 'isVisible': True, 'visConfig': {'radius': 10, 'fixedRadius': False, 'opacity': 0.5, 'outline': False, 'thickness': 2, 'strokeColor': None, 'colorRange': {'name': 'Global Warming', 'type': 'sequential', 'category': 'Uber', 'colors': ['#5A1846', '#900C3F', '#C70039', '#E3611C', '#F1920E', '#FFC300']}, 'strokeColorRange': {'name': 'Global Warming', 'type': 'sequential', 'category': 'Uber', 'colors': ['#5A1846', '#900C3F', '#C70039', '#E3611C', '#F1920E', '#FFC300']}, 'radiusRange': [0, 50], 'filled': True}, 'hidden': False, 'textLabel': [{'field': None, 'color': [255, 255, 255], 'size': 18, 'offset': [0, 0], 'anchor': 'start', 'alignment': 'center'}]}, 'visualChannels': {'colorField': None, 'colorScale': 'quantile', 'strokeColorField': None, 'strokeColorScale': 'quantile', 'sizeField': None, 'sizeScale': 'linear'}}, {'id': '1fxg53d', 'type': 'hexagonId', 'config': {'dataId': 'losteria_restaurants_hexagons', 'label': 'LOSTERIA_RESTAURANTS_HEXAGONS', 'color': [249, 196, 196], 'columns': {'hex_id': 'H3_INDEX'}, 'isVisible': True, 'visConfig': {'opacity': 0.5, 'colorRange': {'name': 'Global Warming', 'type': 'sequential', 'category': 'Uber', 'colors': ['#5A1846', '#900C3F', '#C70039', '#E3611C', '#F1920E', '#FFC300']}, 'coverage': 1, 'enable3d': False, 'sizeRange': [0, 500], 'coverageRange': [0, 1], 'elevationScale': 5, 'enableElevationZoomFactor': True}, 'hidden': False, 'textLabel': [{'field': None, 'color': [255, 255, 255], 'size': 18, 'offset': [0, 0], 'anchor': 'start', 'alignment': 'center'}]}, 'visualChannels': {'colorField': None, 'colorScale': 'quantile', 'sizeField': None, 'sizeScale': 'linear', 'coverageField': None, 'coverageScale': 'linear'}}], 'interactionConfig': {'tooltip': {'fieldsToShow': {'losteria_restaurants': [{'name': 'STREET', 'format': None}, {'name': 'ZIP_CODE', 'format': None}, {'name': 'CITY', 'format': None}, {'name': 'LATITUDE', 'format': None}, {'name': 'LONGITUDE', 'format': None}], 'losteria_restaurants_hexagons': [{'name': 'STREET', 'format': None}, {'name': 'ZIP_CODE', 'format': None}, {'name': 'CITY', 'format': None}, {'name': 'LATITUDE', 'format': None}, {'name': 'LONGITUDE', 'format': None}]}, 'compareMode': False, 'compareType': 'absolute', 'enabled': True}, 'brush': {'size': 0, 'enabled': False}, 'geocoder': {'enabled': False}, 'coordinate': {'enabled': False}}, 'layerBlending': 'normal', 'splitMaps': [], 'animationConfig': {'currentTime': None, 'speed': 1}}, 'mapState': {'bearing': 0, 'dragRotate': False, 'latitude': 53.56581943999632, 'longitude': 9.954395594799491, 'pitch': 0, 'zoom': 11.223547206164303, 'isSplit': False}, 'mapStyle': {'styleType': 'light', 'topLayerGroups': {}, 'visibleLayerGroups': {'label': True, 'road': True, 'border': True, 'building': True, 'water': True, 'land': True, '3d building': False}, 'threeDBuildingColor': [218.82023004728686, 223.47597962276103, 223.47597962276103], 'mapStyles': {}}}}\r\n",
                "losteria_map_v4.add_data(data=restaurants, name='losteria_restaurants') # refresh data\r\n",
                "losteria_map_v4.add_data(data=restaurants_hexagons, name='losteria_restaurants_hexagons') # new data\r\n",
                "losteria_map_v4.config = config # refresh config\r\n",
                "losteria_map_v4 # execute"
            ],
            "outputs": [
                {
                    "output_type": "stream",
                    "name": "stderr",
                    "text": [
                        "100%|██████████| 107/107 [00:00<00:00, 136.26it/s]\n"
                    ]
                },
                {
                    "output_type": "stream",
                    "name": "stdout",
                    "text": [
                        "User Guide: https://docs.kepler.gl/docs/keplergl-jupyter\n"
                    ]
                },
                {
                    "output_type": "display_data",
                    "data": {
                        "application/vnd.jupyter.widget-view+json": {
                            "version_major": 2,
                            "version_minor": 0,
                            "model_id": "8d3f136074f04f388f0616aefb9ce2b9"
                        },
                        "text/plain": [
                            "KeplerGl(config={'version': 'v1', 'config': {'visState': {'filters': [], 'layers': [{'id': '73uc1wa', 'type': …"
                        ]
                    },
                    "metadata": {}
                }
            ],
            "metadata": {}
        },
        {
            "cell_type": "markdown",
            "source": [
                "So what happened now? We added neighbouring hexagons of the degree 2 or in other words, we added our initial hexagons' neighbours and their neighbours. In result, we receive a much larger area that a) moves our restaurants'locations more towards the centre of our hexagonial area and b) expands the hexagons to reflect a larger catchment area. With this our H3 data set should be ready and we can move to the next step!"
            ],
            "metadata": {}
        },
        {
            "cell_type": "markdown",
            "source": [
                "## OPEN STREET MAP\r\n",
                "We can now analyze the area of our L'Osteria locations by downloading the information linked to the initial as well as neighbouring hexagons. However, if we want to analyze a specific area such as a city, we cannot use this approach straight forward since we are limited to borders that are not considered under H3. The closer we get to the borders of a city, the more hexagons we would observe that are located outside of the city's borders. Hence, our data could be distorted. So what do we do?\r\n",
                "<br>\r\n",
                "<br>\r\n",
                "We need shape files. A shape file is a specific data format that allows you to handle geospatial data. In our case, we are specifically interested in shapefiles that contain border information of European cities. There are many data providers that offer this information in form of a shape file. Since we are on a budget, we will use the shape files provided by [OpenStreetMap](https://www.openstreetmap.de/). OpenStreetMap is an international project founded in 2004 with the goal of creating a free map of the world. For this purpose they collect data about roads, railroads, rivers, forests, houses and much more worldwide. However, the shapefiles we are interested in are provided by [Geofabrik](https://www.geofabrik.de/) which is a German provider who built its service based on OpenStreetMap. Here, you can download shapefiles of various countries, regions and cities for free.\r\n",
                "<br>\r\n",
                "<br>\r\n",
                "L'Osteria has recently started adding locations in the UK to their portfolio. However, so far there has been no new restaurant in London itself. So guess what we will do - right, we are going to analyse where in London would be a potentially good location for a new L'Osteria restaurant! \r\n",
                "<br>\r\n",
                "<br>\r\n",
                "So in the first step, we are going to download the necessary shape file from Geofabrik. You can do so via this [link](https://download.geofabrik.de/europe/great-britain/england/greater-london.html). After the download, the file needs to be extracted within the working directory. It then can be read via the [Geopandas](https://geopandas.org/) library. The shapefile we are interested in is called \"gis_osm_places_a_free_1.shp\" and contains multiple shapes of the city of London in form of polygons. Since we are not interested in multiple different shapes that cluster London, we need to select the right shape with the name \"London\":"
            ],
            "metadata": {}
        },
        {
            "cell_type": "code",
            "execution_count": 10,
            "source": [
                "# Import working libraries\r\n",
                "import geopandas as gpd\r\n",
                "\r\n",
                "# Set path\r\n",
                "path = r'C:\\Users\\maurice.buettgenbach\\OneDrive - Aquila Capital Management GmbH\\Desktop\\Desktop\\Private\\IBM\\10_Capstone project\\IBM_The_battle_of_neighborhoods_v2\\LONDON_SHAPE_FILES\\gis_osm_places_a_free_1.shp'\r\n",
                "\r\n",
                "# Read file\r\n",
                "london_shape = gpd.read_file(path)\r\n",
                "\r\n",
                "# Isolate city polygon\r\n",
                "london_shape = london_shape[(london_shape['name'] == 'London')]\r\n",
                "\r\n",
                "# Visualize\r\n",
                "from keplergl import KeplerGl\r\n",
                "london_map_v1 = KeplerGl(height=600)\r\n",
                "config = {'version': 'v1', 'config': {'visState': {'filters': [], 'layers': [{'id': 'ci1qt6n', 'type': 'geojson', 'config': {'dataId': 'london_shape_file', 'label': 'London', 'color': [179, 173, 158], 'columns': {'geojson': 'geometry'}, 'isVisible': True, 'visConfig': {'opacity': 0.8, 'strokeOpacity': 0.8, 'thickness': 2, 'strokeColor': [192, 192, 192], 'colorRange': {'name': 'Global Warming', 'type': 'sequential', 'category': 'Uber', 'colors': ['#5A1846', '#900C3F', '#C70039', '#E3611C', '#F1920E', '#FFC300']}, 'strokeColorRange': {'name': 'Global Warming', 'type': 'sequential', 'category': 'Uber', 'colors': ['#5A1846', '#900C3F', '#C70039', '#E3611C', '#F1920E', '#FFC300']}, 'radius': 10, 'sizeRange': [0, 10], 'radiusRange': [0, 50], 'heightRange': [0, 500], 'elevationScale': 1, 'enableElevationZoomFactor': True, 'stroked': True, 'filled': False, 'enable3d': False, 'wireframe': False}, 'hidden': False, 'textLabel': [{'field': None, 'color': [255, 255, 255], 'size': 18, 'offset': [0, 0], 'anchor': 'start', 'alignment': 'center'}]}, 'visualChannels': {'colorField': None, 'colorScale': 'quantile', 'strokeColorField': None, 'strokeColorScale': 'quantile', 'sizeField': None, 'sizeScale': 'linear', 'heightField': None, 'heightScale': 'linear', 'radiusField': None, 'radiusScale': 'linear'}}], 'interactionConfig': {'tooltip': {'fieldsToShow': {'losteria_restaurants': [{'name': 'STREET', 'format': None}, {'name': 'ZIP_CODE', 'format': None}, {'name': 'CITY', 'format': None}, {'name': 'LATITUDE', 'format': None}, {'name': 'LONGITUDE', 'format': None}], 'losteria_restaurants_hexagons': [{'name': 'STREET', 'format': None}, {'name': 'ZIP_CODE', 'format': None}, {'name': 'CITY', 'format': None}, {'name': 'LATITUDE', 'format': None}, {'name': 'LONGITUDE', 'format': None}], 'london_shape_file': [{'name': 'osm_id', 'format': None}, {'name': 'code', 'format': None}, {'name': 'fclass', 'format': None}, {'name': 'name', 'format': None}]}, 'compareMode': False, 'compareType': 'absolute', 'enabled': True}, 'brush': {'size': 0, 'enabled': False}, 'geocoder': {'enabled': False}, 'coordinate': {'enabled': False}}, 'layerBlending': 'normal', 'splitMaps': [], 'animationConfig': {'currentTime': None, 'speed': 1}}, 'mapState': {'bearing': 0, 'dragRotate': False, 'latitude': 51.54868482103512, 'longitude': -0.054559532218202485, 'pitch': 0, 'zoom': 9.579370455413446, 'isSplit': False}, 'mapStyle': {'styleType': 'light', 'topLayerGroups': {}, 'visibleLayerGroups': {'label': True, 'road': True, 'border': True, 'building': True, 'water': True, 'land': True, '3d building': False}, 'threeDBuildingColor': [218.82023004728686, 223.47597962276103, 223.47597962276103], 'mapStyles': {}}}}\r\n",
                "london_map_v1.add_data(data=london_shape, name='london_shape_file')\r\n",
                "london_map_v1.config = config # refresh config\r\n",
                "london_map_v1 # execute"
            ],
            "outputs": [
                {
                    "output_type": "stream",
                    "name": "stdout",
                    "text": [
                        "User Guide: https://docs.kepler.gl/docs/keplergl-jupyter\n"
                    ]
                },
                {
                    "output_type": "display_data",
                    "data": {
                        "application/vnd.jupyter.widget-view+json": {
                            "version_major": 2,
                            "version_minor": 0,
                            "model_id": "daddbbc1e2dd485a8a6312d3e9228fdf"
                        },
                        "text/plain": [
                            "KeplerGl(config={'version': 'v1', 'config': {'visState': {'filters': [], 'layers': [{'id': 'ci1qt6n', 'type': …"
                        ]
                    },
                    "metadata": {}
                }
            ],
            "metadata": {}
        },
        {
            "cell_type": "markdown",
            "source": [
                "We can observe that our approach was successful - with the exception that the city centre is missing a piece. The shape seems to be excluding the district \"City of London\". The documentation of Geofabrik says that all \"city\" shapes follow official boundaries. A quick research shows that the City of London has a different politcal status than the rest of London and hence is treated as its own \"city in the city\". It is therefore not covered by the shapefile. \r\n",
                "<br>\r\n",
                "<br>\r\n",
                "Since we want to cover the entire city, we need to find a solution on how to eliminate the donut hole in our polygon. Good thing that there is stackoverflow! Someone apparently already had this problem, so we will use [this code](https://stackoverflow.com/questions/61427797/filling-a-hole-in-a-multipolygon-with-shapely-netherlands-2-digit-postal-codes) and amend it to our variables:"
            ],
            "metadata": {}
        },
        {
            "cell_type": "code",
            "execution_count": 11,
            "source": [
                "# Import working libraries\r\n",
                "from shapely.geometry import Polygon\r\n",
                "\r\n",
                "# Define function\r\n",
                "def close_holes(poly: Polygon) -> Polygon:\r\n",
                "        \"\"\"\r\n",
                "        Close polygon holes by limitation to the exterior ring.\r\n",
                "        Args:\r\n",
                "            poly: Input shapely Polygon\r\n",
                "        Example:\r\n",
                "            df.geometry.apply(lambda p: close_holes(p))\r\n",
                "        \"\"\"\r\n",
                "        if poly.interiors:\r\n",
                "            return Polygon(list(poly.exterior.coords))\r\n",
                "        else:\r\n",
                "            return poly\r\n",
                "\r\n",
                "# Apply function\r\n",
                "london_shape = london_shape.geometry.apply(lambda p: close_holes(p))\r\n",
                "\r\n",
                "# Convert to geopandas df\r\n",
                "london_shape = gpd.GeoDataFrame(london_shape)\r\n",
                "\r\n",
                "# Copy for later mapping\r\n",
                "london_border = london_shape.copy() # copy\r\n",
                "\r\n",
                "# Visualize\r\n",
                "from keplergl import KeplerGl\r\n",
                "london_map_v2 = KeplerGl(height=600)\r\n",
                "config = {'version': 'v1', 'config': {'visState': {'filters': [], 'layers': [{'id': 'ci1qt6n', 'type': 'geojson', 'config': {'dataId': 'london_shape_file', 'label': 'London', 'color': [179, 173, 158], 'columns': {'geojson': 'geometry'}, 'isVisible': True, 'visConfig': {'opacity': 0.8, 'strokeOpacity': 0.8, 'thickness': 2, 'strokeColor': [192, 192, 192], 'colorRange': {'name': 'Global Warming', 'type': 'sequential', 'category': 'Uber', 'colors': ['#5A1846', '#900C3F', '#C70039', '#E3611C', '#F1920E', '#FFC300']}, 'strokeColorRange': {'name': 'Global Warming', 'type': 'sequential', 'category': 'Uber', 'colors': ['#5A1846', '#900C3F', '#C70039', '#E3611C', '#F1920E', '#FFC300']}, 'radius': 10, 'sizeRange': [0, 10], 'radiusRange': [0, 50], 'heightRange': [0, 500], 'elevationScale': 1, 'enableElevationZoomFactor': True, 'stroked': True, 'filled': False, 'enable3d': False, 'wireframe': False}, 'hidden': False, 'textLabel': [{'field': None, 'color': [255, 255, 255], 'size': 18, 'offset': [0, 0], 'anchor': 'start', 'alignment': 'center'}]}, 'visualChannels': {'colorField': None, 'colorScale': 'quantile', 'strokeColorField': None, 'strokeColorScale': 'quantile', 'sizeField': None, 'sizeScale': 'linear', 'heightField': None, 'heightScale': 'linear', 'radiusField': None, 'radiusScale': 'linear'}}], 'interactionConfig': {'tooltip': {'fieldsToShow': {'losteria_restaurants': [{'name': 'STREET', 'format': None}, {'name': 'ZIP_CODE', 'format': None}, {'name': 'CITY', 'format': None}, {'name': 'LATITUDE', 'format': None}, {'name': 'LONGITUDE', 'format': None}], 'losteria_restaurants_hexagons': [{'name': 'STREET', 'format': None}, {'name': 'ZIP_CODE', 'format': None}, {'name': 'CITY', 'format': None}, {'name': 'LATITUDE', 'format': None}, {'name': 'LONGITUDE', 'format': None}], 'london_shape_file': [{'name': 'osm_id', 'format': None}, {'name': 'code', 'format': None}, {'name': 'fclass', 'format': None}, {'name': 'name', 'format': None}]}, 'compareMode': False, 'compareType': 'absolute', 'enabled': True}, 'brush': {'size': 0, 'enabled': False}, 'geocoder': {'enabled': False}, 'coordinate': {'enabled': False}}, 'layerBlending': 'normal', 'splitMaps': [], 'animationConfig': {'currentTime': None, 'speed': 1}}, 'mapState': {'bearing': 0, 'dragRotate': False, 'latitude': 51.54868482103512, 'longitude': -0.054559532218202485, 'pitch': 0, 'zoom': 9.579370455413446, 'isSplit': False}, 'mapStyle': {'styleType': 'light', 'topLayerGroups': {}, 'visibleLayerGroups': {'label': True, 'road': True, 'border': True, 'building': True, 'water': True, 'land': True, '3d building': False}, 'threeDBuildingColor': [218.82023004728686, 223.47597962276103, 223.47597962276103], 'mapStyles': {}}}}\r\n",
                "london_map_v2.add_data(data=london_shape, name='london_shape_file')\r\n",
                "london_map_v2.config = config # refresh config\r\n",
                "london_map_v2 # execute"
            ],
            "outputs": [
                {
                    "output_type": "stream",
                    "name": "stdout",
                    "text": [
                        "User Guide: https://docs.kepler.gl/docs/keplergl-jupyter\n"
                    ]
                },
                {
                    "output_type": "display_data",
                    "data": {
                        "application/vnd.jupyter.widget-view+json": {
                            "version_major": 2,
                            "version_minor": 0,
                            "model_id": "f5b773cdb86541098c74cfe235c0f40a"
                        },
                        "text/plain": [
                            "KeplerGl(config={'version': 'v1', 'config': {'visState': {'filters': [], 'layers': [{'id': 'ci1qt6n', 'type': …"
                        ]
                    },
                    "metadata": {}
                }
            ],
            "metadata": {}
        },
        {
            "cell_type": "markdown",
            "source": [
                "Now that we have one shape covering entire London, we can begin the download the H3 hexagons for London. We will do so by using the \"polyfill\" function of the H3 python library. This function will \"fill up\" our shape with unique hexagons until the shape is completely covered:"
            ],
            "metadata": {}
        },
        {
            "cell_type": "code",
            "execution_count": 12,
            "source": [
                "# Convert to json\r\n",
                "london_geojson = london_shape.to_json()\r\n",
                "\r\n",
                "# Convert do dict\r\n",
                "london_geojson = pd.read_json(london_geojson)\r\n",
                "\r\n",
                "# Isolate polygon\r\n",
                "london_poly = london_geojson['features'][0]['geometry'].copy() \r\n",
                "\r\n",
                "# Set resolution\r\n",
                "resolution = 9\r\n",
                "\r\n",
                "# Get h3 indexes\r\n",
                "london_h3_hex = h3.polyfill_geojson(london_poly, resolution) \r\n",
                "\r\n",
                "# Convert to pandas df\r\n",
                "london_h3_hex = pd.DataFrame(london_h3_hex)\r\n",
                "\r\n",
                "# Show df shape\r\n",
                "print(london_h3_hex.shape)\r\n",
                "\r\n",
                "# Visualize\r\n",
                "from keplergl import KeplerGl\r\n",
                "london_map_v3 = KeplerGl(height=600)\r\n",
                "config = {'version': 'v1', 'config': {'visState': {'filters': [], 'layers': [{'id': 'ci1qt6n', 'type': 'geojson', 'config': {'dataId': 'london_shape_file', 'label': 'LONDON_BORDER', 'color': [179, 173, 158], 'columns': {'geojson': 'geometry'}, 'isVisible': True, 'visConfig': {'opacity': 0.8, 'strokeOpacity': 0.8, 'thickness': 2, 'strokeColor': [192, 192, 192], 'colorRange': {'name': 'Global Warming', 'type': 'sequential', 'category': 'Uber', 'colors': ['#5A1846', '#900C3F', '#C70039', '#E3611C', '#F1920E', '#FFC300']}, 'strokeColorRange': {'name': 'Global Warming', 'type': 'sequential', 'category': 'Uber', 'colors': ['#5A1846', '#900C3F', '#C70039', '#E3611C', '#F1920E', '#FFC300']}, 'radius': 10, 'sizeRange': [0, 10], 'radiusRange': [0, 50], 'heightRange': [0, 500], 'elevationScale': 1, 'enableElevationZoomFactor': True, 'stroked': True, 'filled': False, 'enable3d': False, 'wireframe': False}, 'hidden': False, 'textLabel': [{'field': None, 'color': [255, 255, 255], 'size': 18, 'offset': [0, 0], 'anchor': 'start', 'alignment': 'center'}]}, 'visualChannels': {'colorField': None, 'colorScale': 'quantile', 'strokeColorField': None, 'strokeColorScale': 'quantile', 'sizeField': None, 'sizeScale': 'linear', 'heightField': None, 'heightScale': 'linear', 'radiusField': None, 'radiusScale': 'linear'}}, {'id': 'akq9on', 'type': 'hexagonId', 'config': {'dataId': 'london_h3_hexagons', 'label': 'LONDON_H3_RES_9', 'color': [47, 197, 204], 'columns': {'hex_id': 'column_0'}, 'isVisible': True, 'visConfig': {'opacity': 0.05, 'colorRange': {'name': 'Global Warming', 'type': 'sequential', 'category': 'Uber', 'colors': ['#5A1846', '#900C3F', '#C70039', '#E3611C', '#F1920E', '#FFC300']}, 'coverage': 1, 'enable3d': False, 'sizeRange': [0, 500], 'coverageRange': [0, 1], 'elevationScale': 5, 'enableElevationZoomFactor': True}, 'hidden': False, 'textLabel': [{'field': None, 'color': [255, 255, 255], 'size': 18, 'offset': [0, 0], 'anchor': 'start', 'alignment': 'center'}]}, 'visualChannels': {'colorField': None, 'colorScale': 'quantile', 'sizeField': None, 'sizeScale': 'linear', 'coverageField': None, 'coverageScale': 'linear'}}], 'interactionConfig': {'tooltip': {'fieldsToShow': {'london_shape_file': [], 'london_h3_hexagons': [{'name': 'column_0', 'format': None}]}, 'compareMode': False, 'compareType': 'absolute', 'enabled': True}, 'brush': {'size': 0, 'enabled': False}, 'geocoder': {'enabled': False}, 'coordinate': {'enabled': False}}, 'layerBlending': 'normal', 'splitMaps': [], 'animationConfig': {'currentTime': None, 'speed': 1}}, 'mapState': {'bearing': 0, 'dragRotate': False, 'latitude': 51.49025098481283, 'longitude': -0.11004399497071785, 'pitch': 0, 'zoom': 9.031311538496494, 'isSplit': False}, 'mapStyle': {'styleType': 'light', 'topLayerGroups': {}, 'visibleLayerGroups': {'label': True, 'road': True, 'border': True, 'building': True, 'water': True, 'land': True, '3d building': False}, 'threeDBuildingColor': [218.82023004728686, 223.47597962276103, 223.47597962276103], 'mapStyles': {}}}}\r\n",
                "london_map_v3.add_data(data=london_border, name='london_shape_file')\r\n",
                "london_map_v3.add_data(data=london_h3_hex, name='london_h3_hexagons')\r\n",
                "london_map_v3.config = config # refresh config\r\n",
                "london_map_v3 # execute"
            ],
            "outputs": [
                {
                    "output_type": "stream",
                    "name": "stdout",
                    "text": [
                        "(16890, 1)\n",
                        "User Guide: https://docs.kepler.gl/docs/keplergl-jupyter\n"
                    ]
                },
                {
                    "output_type": "display_data",
                    "data": {
                        "application/vnd.jupyter.widget-view+json": {
                            "version_major": 2,
                            "version_minor": 0,
                            "model_id": "978030396db54adf9385a2e6b1a4025f"
                        },
                        "text/plain": [
                            "KeplerGl(config={'version': 'v1', 'config': {'visState': {'filters': [], 'layers': [{'id': 'ci1qt6n', 'type': …"
                        ]
                    },
                    "metadata": {}
                }
            ],
            "metadata": {}
        },
        {
            "cell_type": "markdown",
            "source": [
                "In result, our London shape has been filled up with a total of 16,890 unique hexagons with the resolution 9. When you scroll in and have a closer look at the shape's border, you will see that the hexagons are sometimes overlapping the border or that some hexagons are missing. This is correct since the polyfill function excludes hexagons whose majority does not lie within the given shape. In result, the H3 mapping approach is getting imprecise around a shape's border. However, for our purpose this is negligible as we are going to add a few more hexagons to simulate catchment areas. To do that, we can simply recycle our code from above:"
            ],
            "metadata": {}
        },
        {
            "cell_type": "code",
            "execution_count": 13,
            "source": [
                "# Degree of neighbouring hexagons\r\n",
                "k_neighbours = 2\r\n",
                "\r\n",
                "# Creat empty variable\r\n",
                "h3_indexes = pd.DataFrame()\r\n",
                "\r\n",
                "# Get neighbours per hexagon\r\n",
                "for i in tqdm(range(len(london_h3_hex.index))):\r\n",
                "    # Get H3 index\r\n",
                "    h3_index = london_h3_hex.iloc[i, 0:1][0]\r\n",
                "    # Get neighbouring hexagon indexes\r\n",
                "    h3_neighbours = h3.k_ring(h3_index, k_neighbours)\r\n",
                "    # Convert to df\r\n",
                "    h3_neighbours = pd.DataFrame(h3_neighbours)\r\n",
                "    # Store initial hexagon in df\r\n",
                "    h3_neighbours['INITIAL_HEXAGON'] = h3_index\r\n",
                "    # Append empty variable\r\n",
                "    h3_indexes = h3_indexes.append(h3_neighbours)\r\n",
                "\r\n",
                "# Rename column\r\n",
                "h3_indexes.rename(columns={0:'H3_INDEX'}, inplace=True)\r\n",
                "\r\n",
                "# Reset index\r\n",
                "h3_indexes.reset_index(drop=True, inplace=True)\r\n",
                "\r\n",
                "# Update variable\r\n",
                "london_h3_hex = h3_indexes\r\n",
                "\r\n",
                "# Isolate unique hexagons for download and mapping\r\n",
                "london_h3_hex_unique = pd.DataFrame(london_h3_hex['H3_INDEX'].unique())\r\n",
                "\r\n",
                "# Refresh border data\r\n",
                "london_border = pd.DataFrame(london_border) # convert to df\r\n",
                "\r\n",
                "# Visualize shape\r\n",
                "print(london_h3_hex.shape)\r\n",
                "# Visualize kepler map\r\n",
                "from keplergl import KeplerGl\r\n",
                "london_map_v4 = KeplerGl(height=600)\r\n",
                "config = {'version': 'v1', 'config': {'visState': {'filters': [], 'layers': [{'id': 'ci1qt6n', 'type': 'geojson', 'config': {'dataId': 'london_shape_file', 'label': 'LONDON_BORDER', 'color': [179, 173, 158], 'columns': {'geojson': 'geometry'}, 'isVisible': True, 'visConfig': {'opacity': 0.8, 'strokeOpacity': 0.8, 'thickness': 2, 'strokeColor': [192, 192, 192], 'colorRange': {'name': 'Global Warming', 'type': 'sequential', 'category': 'Uber', 'colors': ['#5A1846', '#900C3F', '#C70039', '#E3611C', '#F1920E', '#FFC300']}, 'strokeColorRange': {'name': 'Global Warming', 'type': 'sequential', 'category': 'Uber', 'colors': ['#5A1846', '#900C3F', '#C70039', '#E3611C', '#F1920E', '#FFC300']}, 'radius': 10, 'sizeRange': [0, 10], 'radiusRange': [0, 50], 'heightRange': [0, 500], 'elevationScale': 1, 'enableElevationZoomFactor': True, 'stroked': True, 'filled': False, 'enable3d': False, 'wireframe': False}, 'hidden': False, 'textLabel': [{'field': None, 'color': [255, 255, 255], 'size': 18, 'offset': [0, 0], 'anchor': 'start', 'alignment': 'center'}]}, 'visualChannels': {'colorField': None, 'colorScale': 'quantile', 'strokeColorField': None, 'strokeColorScale': 'quantile', 'sizeField': None, 'sizeScale': 'linear', 'heightField': None, 'heightScale': 'linear', 'radiusField': None, 'radiusScale': 'linear'}}, {'id': 'akq9on', 'type': 'hexagonId', 'config': {'dataId': 'london_h3_hexagons', 'label': 'LONDON_H3_RES_9', 'color': [47, 197, 204], 'columns': {'hex_id': 'column_0'}, 'isVisible': True, 'visConfig': {'opacity': 0.05, 'colorRange': {'name': 'Global Warming', 'type': 'sequential', 'category': 'Uber', 'colors': ['#5A1846', '#900C3F', '#C70039', '#E3611C', '#F1920E', '#FFC300']}, 'coverage': 1, 'enable3d': False, 'sizeRange': [0, 500], 'coverageRange': [0, 1], 'elevationScale': 5, 'enableElevationZoomFactor': True}, 'hidden': False, 'textLabel': [{'field': None, 'color': [255, 255, 255], 'size': 18, 'offset': [0, 0], 'anchor': 'start', 'alignment': 'center'}]}, 'visualChannels': {'colorField': None, 'colorScale': 'quantile', 'sizeField': None, 'sizeScale': 'linear', 'coverageField': None, 'coverageScale': 'linear'}}], 'interactionConfig': {'tooltip': {'fieldsToShow': {'london_shape_file': [], 'london_h3_hexagons': [{'name': 'column_0', 'format': None}]}, 'compareMode': False, 'compareType': 'absolute', 'enabled': True}, 'brush': {'size': 0, 'enabled': False}, 'geocoder': {'enabled': False}, 'coordinate': {'enabled': False}}, 'layerBlending': 'normal', 'splitMaps': [], 'animationConfig': {'currentTime': None, 'speed': 1}}, 'mapState': {'bearing': 0, 'dragRotate': False, 'latitude': 51.49025098481283, 'longitude': -0.11004399497071785, 'pitch': 0, 'zoom': 9.031311538496494, 'isSplit': False}, 'mapStyle': {'styleType': 'light', 'topLayerGroups': {}, 'visibleLayerGroups': {'label': True, 'road': True, 'border': True, 'building': True, 'water': True, 'land': True, '3d building': False}, 'threeDBuildingColor': [218.82023004728686, 223.47597962276103, 223.47597962276103], 'mapStyles': {}}}}\r\n",
                "london_map_v4.add_data(data=london_border, name='london_shape_file')\r\n",
                "london_map_v4.add_data(data=london_h3_hex_unique, name='london_h3_hexagons')\r\n",
                "london_map_v4.config = config # refresh config\r\n",
                "london_map_v4 # execute"
            ],
            "outputs": [
                {
                    "output_type": "stream",
                    "name": "stderr",
                    "text": [
                        "100%|██████████| 16890/16890 [01:30<00:00, 187.26it/s]\n"
                    ]
                },
                {
                    "output_type": "stream",
                    "name": "stdout",
                    "text": [
                        "(320910, 2)\n",
                        "User Guide: https://docs.kepler.gl/docs/keplergl-jupyter\n"
                    ]
                },
                {
                    "output_type": "display_data",
                    "data": {
                        "application/vnd.jupyter.widget-view+json": {
                            "version_major": 2,
                            "version_minor": 0,
                            "model_id": "10c0375ac4744d35be2f49381e72866d"
                        },
                        "text/plain": [
                            "KeplerGl(config={'version': 'v1', 'config': {'visState': {'filters': [], 'layers': [{'id': 'ci1qt6n', 'type': …"
                        ]
                    },
                    "metadata": {}
                }
            ],
            "metadata": {}
        },
        {
            "cell_type": "markdown",
            "source": [
                "Alright, what happened? In the first step, we have assigned all of the hexagons in our London shape their neighbouring hexagons with a degree of two. In result, we received a much larger df. Is that right? Yes, it is because each unique hexagon is also included as a neighbour of another unique hexagon. We therefore have a lot of overlapping catchment areas and hence a much larger dataframe. \r\n",
                "<br>\r\n",
                "<br>\r\n",
                "In the second step, we have isolated the unique hexagons from our larger df. The result can be seen on the map above: We now have hexagons that are outside of our shape. These hexagons have been added because they are degree two neighbours of the hexagons located close to the shape's borders. This way we were able to solve the issue that some hexagons were excluded by the polyfill function without loosing the initial shape's appearance. \r\n",
                "<br>\r\n",
                "<br>\r\n",
                "We are now ready to make the next step: Adding actual data!"
            ],
            "metadata": {}
        },
        {
            "cell_type": "markdown",
            "source": [
                "## FOURSQUARE\r\n",
                "To add data to our hexagons, we will use [Foursquare](https://foursquare.com/) which is an app that lets its users rank all different kinds of venues all over the world. By doing so, Foursquare has build one of the most comprehensive geospatial data sets in the world. The data set covers an extremely large amount of venue and user data that allows you to access everything from a venue's name, location or menu up to user ratings, comments or pictures of each venue. And the best part: Foursquare provides developers an [API](https://developer.foursquare.com/) that is (in limits) free to use! \r\n",
                "<br>\r\n",
                "<br>\r\n",
                "Even though Foursquare provides an incredible variety of data, we will use the venue categories (e.g. sushi restaurant, park, sports club, italian restaurant, etc.) for our analysis only. While it would most likely increase the success of our algorithm to include more information such as rankings or types of user data, we will not include this data due to ressource limitations.\r\n",
                "<br>\r\n",
                "<br>\r\n",
                "We will use the Foursquare data to analyze the area of the hexagons (or neighbouring hexagons) in which L'Osteria has existing restaurants as well as the hexagons of the new city we are interested in. This way we will be able to cluster the hexagons according to their characteristics.\r\n",
                "<br>\r\n",
                "<br>\r\n",
                "Ok, let's start with the basics: Adding our user data! However, I will not include my user credentials in the code due to privacy issues. Instead, I will load them from a txt file I have prepared. The textfile is not stored on the repository. So if you want to replicate my steps, you would have to do create your own txt files and load your credentials seperately."
            ],
            "metadata": {}
        },
        {
            "cell_type": "code",
            "execution_count": 14,
            "source": [
                "# Set credentials\r\n",
                "client_id = list(pd.read_csv(r'C:\\Users\\maurice.buettgenbach\\OneDrive - Aquila Capital Management GmbH\\Desktop\\Desktop\\Private\\IBM\\10_Capstone project\\IBM_The_battle_of_neighborhoods_v2\\FOURSQUARE_LOGIN_DETAILS\\FOURSQUARE_CLIENT_ID.txt').columns)[0]\r\n",
                "client_secret = list(pd.read_csv(r'C:\\Users\\maurice.buettgenbach\\OneDrive - Aquila Capital Management GmbH\\Desktop\\Desktop\\Private\\IBM\\10_Capstone project\\IBM_The_battle_of_neighborhoods_v2\\FOURSQUARE_LOGIN_DETAILS\\FOURSQUARE_CLIENT_SECRET.txt').columns)[0]\r\n",
                "access_token = list(pd.read_csv(r'C:\\Users\\maurice.buettgenbach\\OneDrive - Aquila Capital Management GmbH\\Desktop\\Desktop\\Private\\IBM\\10_Capstone project\\IBM_The_battle_of_neighborhoods_v2\\FOURSQUARE_LOGIN_DETAILS\\FOURSQUARE_ACCESS_TOKEN.txt').columns)[0]\r\n",
                "\r\n",
                "# Check out\r\n",
                "print(\"Foursquare credentials loaded.\")"
            ],
            "outputs": [
                {
                    "output_type": "stream",
                    "name": "stdout",
                    "text": [
                        "Foursquare credentials loaded.\n"
                    ]
                }
            ],
            "metadata": {}
        },
        {
            "cell_type": "markdown",
            "source": [
                "With our login details ready, we are able to download data now. Foursquare downloads the information based on GPS coordinates. At the moment we have only coordinates of the existing restaurants themselves. Since we want to base our analysis on the defined hexagons, this information is not enough. Before we can start downloading data, we need to get the correct GPS coordinates.\r\n",
                "<br>\r\n",
                "<br>\r\n",
                "Depending on the size of the hexagon, it can contain more than a million different GPS coordinates. So choosing the right one is crucial. The Foursquare API lets you download data based on a radius. So if we would choose a random set of GPS coordinates within each hexagon, we will have the risk that the different radiuses are overlapping and most likely leave vast areas uncovered. We will therefore extract the GPS coordinates of the centroids for each hexagon. This way we will be able to adjust the radius to a maximum that covers most of the hexagons' areas. \r\n",
                "<br>\r\n",
                "<br>\r\n",
                "To do so we will first merge our restaurand and london variables. Then we will use the H3 library to retrieve the hexagons' centroids:"
            ],
            "metadata": {}
        },
        {
            "cell_type": "code",
            "execution_count": 15,
            "source": [
                "# Standardize columns\r\n",
                "london_h3_hex_unique.rename(columns={0:'H3_INDEX'}, inplace=True)\r\n",
                "restaurants_hexagons.rename(columns={\r\n",
                "    'STREET':'RESTAURANT_STREET',\r\n",
                "    'ZIP_CODE':'RESTAURANT_ZIP_CODE',\r\n",
                "    'CITY':'RESTAURANT_CITY',\r\n",
                "    'LATITUDE':'RESTAURANT_LATITUDE',\r\n",
                "    'LONGITUTDE':'RESTAURANT_LONGITUDE'\r\n",
                "    }, inplace=True)\r\n",
                "\r\n",
                "\r\n",
                "# Set frames\r\n",
                "frames = [restaurants_hexagons, london_h3_hex_unique]\r\n",
                "\r\n",
                "# Concatenate data sets\r\n",
                "venue_data = pd.concat(frames)\r\n",
                "\r\n",
                "# Get centroids' latitudes\r\n",
                "venue_data['H3_CENTROID_LATITUDE'] = venue_data.apply(lambda row: h3.h3_to_geo(row['H3_INDEX'])[0], axis=1)\r\n",
                "\r\n",
                "# Get centroids' longitude\r\n",
                "venue_data['H3_CENTROID_LONGITUDE'] = venue_data.apply(lambda row: h3.h3_to_geo(row['H3_INDEX'])[1], axis=1)\r\n",
                "\r\n",
                "# Reset index\r\n",
                "venue_data.reset_index(drop=True, inplace=True)\r\n",
                "\r\n",
                "# Viz\r\n",
                "print(venue_data.shape)\r\n",
                "venue_data.tail()"
            ],
            "outputs": [
                {
                    "output_type": "stream",
                    "name": "stdout",
                    "text": [
                        "(20391, 8)\n"
                    ]
                },
                {
                    "output_type": "execute_result",
                    "data": {
                        "text/html": [
                            "<div>\n",
                            "<style scoped>\n",
                            "    .dataframe tbody tr th:only-of-type {\n",
                            "        vertical-align: middle;\n",
                            "    }\n",
                            "\n",
                            "    .dataframe tbody tr th {\n",
                            "        vertical-align: top;\n",
                            "    }\n",
                            "\n",
                            "    .dataframe thead th {\n",
                            "        text-align: right;\n",
                            "    }\n",
                            "</style>\n",
                            "<table border=\"1\" class=\"dataframe\">\n",
                            "  <thead>\n",
                            "    <tr style=\"text-align: right;\">\n",
                            "      <th></th>\n",
                            "      <th>RESTAURANT_STREET</th>\n",
                            "      <th>RESTAURANT_ZIP_CODE</th>\n",
                            "      <th>RESTAURANT_CITY</th>\n",
                            "      <th>RESTAURANT_LATITUDE</th>\n",
                            "      <th>LONGITUDE</th>\n",
                            "      <th>H3_INDEX</th>\n",
                            "      <th>H3_CENTROID_LATITUDE</th>\n",
                            "      <th>H3_CENTROID_LONGITUDE</th>\n",
                            "    </tr>\n",
                            "  </thead>\n",
                            "  <tbody>\n",
                            "    <tr>\n",
                            "      <th>20386</th>\n",
                            "      <td>NaN</td>\n",
                            "      <td>NaN</td>\n",
                            "      <td>NaN</td>\n",
                            "      <td>NaN</td>\n",
                            "      <td>NaN</td>\n",
                            "      <td>89194ac8437ffff</td>\n",
                            "      <td>51.325372</td>\n",
                            "      <td>-0.334556</td>\n",
                            "    </tr>\n",
                            "    <tr>\n",
                            "      <th>20387</th>\n",
                            "      <td>NaN</td>\n",
                            "      <td>NaN</td>\n",
                            "      <td>NaN</td>\n",
                            "      <td>NaN</td>\n",
                            "      <td>NaN</td>\n",
                            "      <td>89194ac8433ffff</td>\n",
                            "      <td>51.327884</td>\n",
                            "      <td>-0.337520</td>\n",
                            "    </tr>\n",
                            "    <tr>\n",
                            "      <th>20388</th>\n",
                            "      <td>NaN</td>\n",
                            "      <td>NaN</td>\n",
                            "      <td>NaN</td>\n",
                            "      <td>NaN</td>\n",
                            "      <td>NaN</td>\n",
                            "      <td>89194ac1dd3ffff</td>\n",
                            "      <td>51.296847</td>\n",
                            "      <td>-0.155008</td>\n",
                            "    </tr>\n",
                            "    <tr>\n",
                            "      <th>20389</th>\n",
                            "      <td>NaN</td>\n",
                            "      <td>NaN</td>\n",
                            "      <td>NaN</td>\n",
                            "      <td>NaN</td>\n",
                            "      <td>NaN</td>\n",
                            "      <td>89195db41abffff</td>\n",
                            "      <td>51.695144</td>\n",
                            "      <td>-0.083397</td>\n",
                            "    </tr>\n",
                            "    <tr>\n",
                            "      <th>20390</th>\n",
                            "      <td>NaN</td>\n",
                            "      <td>NaN</td>\n",
                            "      <td>NaN</td>\n",
                            "      <td>NaN</td>\n",
                            "      <td>NaN</td>\n",
                            "      <td>89194e61463ffff</td>\n",
                            "      <td>51.629929</td>\n",
                            "      <td>0.177963</td>\n",
                            "    </tr>\n",
                            "  </tbody>\n",
                            "</table>\n",
                            "</div>"
                        ],
                        "text/plain": [
                            "      RESTAURANT_STREET RESTAURANT_ZIP_CODE RESTAURANT_CITY  \\\n",
                            "20386               NaN                 NaN             NaN   \n",
                            "20387               NaN                 NaN             NaN   \n",
                            "20388               NaN                 NaN             NaN   \n",
                            "20389               NaN                 NaN             NaN   \n",
                            "20390               NaN                 NaN             NaN   \n",
                            "\n",
                            "       RESTAURANT_LATITUDE  LONGITUDE         H3_INDEX  H3_CENTROID_LATITUDE  \\\n",
                            "20386                  NaN        NaN  89194ac8437ffff             51.325372   \n",
                            "20387                  NaN        NaN  89194ac8433ffff             51.327884   \n",
                            "20388                  NaN        NaN  89194ac1dd3ffff             51.296847   \n",
                            "20389                  NaN        NaN  89195db41abffff             51.695144   \n",
                            "20390                  NaN        NaN  89194e61463ffff             51.629929   \n",
                            "\n",
                            "       H3_CENTROID_LONGITUDE  \n",
                            "20386              -0.334556  \n",
                            "20387              -0.337520  \n",
                            "20388              -0.155008  \n",
                            "20389              -0.083397  \n",
                            "20390               0.177963  "
                        ]
                    },
                    "metadata": {},
                    "execution_count": 15
                }
            ],
            "metadata": {}
        },
        {
            "cell_type": "markdown",
            "source": [
                "Alrighty! We are ready to proceed and start downloading our data from Foursquare. To download data, we can use Foursquare's API that is based on an URl request. To make a successful request, we have to provide a number of information:\r\n",
                "<br>\r\n",
                "<br>\r\n",
                "- Client credientials:\r\n",
                "<br>\r\n",
                "We have to provide the client id, secret and access token that we have created earlier. Foursquare requires this information to match the request with an existing account. \r\n",
                "<br>\r\n",
                "<br>\r\n",
                "- Latitude & longitude:\r\n",
                "<br>\r\n",
                "We need to provide the latitude and longitude of the GPS coordinates where we want to download data from. \r\n",
                "<br>\r\n",
                "- Version:\r\n",
                "<br>\r\n",
                "We need to specify the version of the API we want to use. In our case, we will stick to the versioning that was available within the IBM course. This verison was '20180605'.\r\n",
                "<br>\r\n",
                "<br>\r\n",
                "- Radius:\r\n",
                "<br>\r\n",
                "As already mentioned, the API requires us to state a raduis in which we want to download data from. Picking the right radius is crucial as a small radius will miss data and a too large radius can potentially double it. In result, our algorithm would be biased. So what's the correct radius? According to the H3 documentation, a hexagon with a resolution of 9 has a radius of 0.174375668km. Since the API requires the input in meters, we need to convert this figure to 174.375668m.\r\n",
                "<br>\r\n",
                "<br>\r\n",
                "- Limit:\r\n",
                "<br>\r\n",
                "The API downloads all venues within the radio, starting with the most popular one. The limit setting allows us to state a maximum of vanues we want to download. As the London dataset includes more than 20k hexagons, a high limit (e.g. 100) would result in very large amounts of data. As I only have a rather old laptop to work with, we will set the limit to the top 5 venues in our radius. That would give us approx. more than 100k datapoints to work with which should be enough for our algorithm and still handable for my vintage laptop."
            ],
            "metadata": {}
        },
        {
            "cell_type": "markdown",
            "source": [
                "Finally, we need to talk about another limit - the API call limit. Foursquare data is generally for free but the API limits the calls for a regular user to 950 calls per day. A premium user with a personal subcription plan is allowed to make up to 99,500 calls per day. Both, regular and premium users, are limited to a 500 calls per hour limit.\r\n",
                "<br>\r\n",
                "<br>\r\n",
                "Our venue data set has 20,391 unique hexagons. With a regular user's call limit, we would need 21 days to extract the information. Since that is way too long, I have upgraded my account to a personal non-commercial account. This plan is for free as well, however, you need to verify yourself and provide a credit card. \r\n",
                "<br>\r\n",
                "<br>\r\n",
                "While this solves our problem with the daily limit, we still have the issue with the hourly limit. To overcome this, we will partition our dataset so that it contains a maximum of 500 rows each. We then will install a timer that pauses our program for 1 hour before the next partition is downloaded. Since we have to wait one hour in between each download process, the programm will run over 40 hours in total. To avoid any data losses during the process, we will save the information for each partition as a CSV file. After all partitions have been downloaded, we will merge the datasets and continue. \r\n",
                "<br>\r\n",
                "<br>\r\n",
                "We will begin with partitioning the data. While there is most likely a more elegant way to do it, I chose to go for the brute force method and code the partitions myself. Mea culpa."
            ],
            "metadata": {}
        },
        {
            "cell_type": "code",
            "execution_count": 16,
            "source": [
                "# Partitioning\r\n",
                "part_1 = venue_data[:499].copy()\r\n",
                "part_2 = venue_data[499:999].copy()\r\n",
                "part_3 = venue_data[1000:1499].copy()\r\n",
                "part_4 = venue_data[1500:1999].copy()\r\n",
                "part_5 = venue_data[2000:2499].copy()\r\n",
                "part_6 = venue_data[2500:2999].copy()\r\n",
                "part_7 = venue_data[3000:3499].copy()\r\n",
                "part_8 = venue_data[3500:3999].copy()\r\n",
                "part_9 = venue_data[4000:4499].copy()\r\n",
                "part_10 = venue_data[4500:4999].copy()\r\n",
                "part_11 = venue_data[5000:5499].copy()\r\n",
                "part_12 = venue_data[5500:5999].copy()\r\n",
                "part_13 = venue_data[6000:6499].copy()\r\n",
                "part_14 = venue_data[6500:6999].copy()\r\n",
                "part_15 = venue_data[7000:7499].copy()\r\n",
                "part_16 = venue_data[7500:7999].copy()\r\n",
                "part_17 = venue_data[8000:8499].copy()\r\n",
                "part_18 = venue_data[8500:8999].copy()\r\n",
                "part_19 = venue_data[9000:9499].copy()\r\n",
                "part_20 = venue_data[9500:9999].copy()\r\n",
                "part_21 = venue_data[10000:10499].copy()\r\n",
                "part_22 = venue_data[10500:10999].copy()\r\n",
                "part_23 = venue_data[11000:11499].copy()\r\n",
                "part_24 = venue_data[11500:11999].copy()\r\n",
                "part_25 = venue_data[12000:12499].copy()\r\n",
                "part_26 = venue_data[12500:12999].copy()\r\n",
                "part_27 = venue_data[13000:13499].copy()\r\n",
                "part_28 = venue_data[13500:13999].copy()\r\n",
                "part_29 = venue_data[14000:14499].copy()\r\n",
                "part_30 = venue_data[14500:14999].copy()\r\n",
                "part_31 = venue_data[15000:15499].copy()\r\n",
                "part_32 = venue_data[15500:15999].copy()\r\n",
                "part_33 = venue_data[16000:16499].copy()\r\n",
                "part_34 = venue_data[16500:16999].copy()\r\n",
                "part_35 = venue_data[17000:17499].copy()\r\n",
                "part_36 = venue_data[17500:17999].copy()\r\n",
                "part_37 = venue_data[18000:18499].copy()\r\n",
                "part_38 = venue_data[18500:18999].copy()\r\n",
                "part_39 = venue_data[19000:19499].copy()\r\n",
                "part_40 = venue_data[19500:19999].copy()\r\n",
                "part_41 = venue_data[20000:20391].copy()\r\n",
                "\r\n",
                "# Store in list for iteration\r\n",
                "partitions = [\r\n",
                "    part_1,\r\n",
                "    part_2,\r\n",
                "    part_3,\r\n",
                "    part_4,\r\n",
                "    part_5,\r\n",
                "    part_6,\r\n",
                "    part_7,\r\n",
                "    part_8,\r\n",
                "    part_9,\r\n",
                "    part_10,\r\n",
                "    part_11,\r\n",
                "    part_12,\r\n",
                "    part_13,\r\n",
                "    part_14,\r\n",
                "    part_15,\r\n",
                "    part_16, \r\n",
                "    part_17,\r\n",
                "    part_18,\r\n",
                "    part_19,\r\n",
                "    part_20,\r\n",
                "    part_21,\r\n",
                "    part_22,\r\n",
                "    part_23,\r\n",
                "    part_24,\r\n",
                "    part_25,\r\n",
                "    part_26,\r\n",
                "    part_27,\r\n",
                "    part_28,\r\n",
                "    part_29,\r\n",
                "    part_30,\r\n",
                "    part_31,\r\n",
                "    part_32,\r\n",
                "    part_33,\r\n",
                "    part_34,\r\n",
                "    part_35,\r\n",
                "    part_36,\r\n",
                "    part_37,\r\n",
                "    part_38,\r\n",
                "    part_39,\r\n",
                "    part_40,\r\n",
                "    part_41]"
            ],
            "outputs": [],
            "metadata": {}
        },
        {
            "cell_type": "markdown",
            "source": [
                "Alright. We now have a list with multiple partitions of our venue dataset. Each dataframe has no more than 500 rows, making it impossible to breach the hourly download limit. The next code sections will download the data for each partition automatically. \r\n",
                "<br>\r\n",
                "<br>\r\n",
                "However, there is a catch. Normally, one section would be enough. We could set the timer to 1 hour waiting period and let it iterate over our partitions autonomously. In this case the program would run for a little more than 41 hours. In this case, however, I have decided to split the run time into 8 hour intervals. Reason for this is that I need to commute to work everyday during which the computer will loose internet connection, resulting in an error which would break the loop. Of course that is something we could implement in our code as well but as this way works too, we should try to make it not more complicated than it is already. ;-)\r\n",
                "<br>\r\n",
                "<br>\r\n",
                "Alrighty! See you in 41 hours."
            ],
            "metadata": {}
        },
        {
            "cell_type": "code",
            "execution_count": 17,
            "source": [
                "# Import working libraries\r\n",
                "import json\r\n",
                "import requests\r\n",
                "import time\r\n",
                "\r\n",
                "# Define Foursqaure settings\r\n",
                "version = '20180605'\r\n",
                "radius = 174.375668\r\n",
                "limit = 5\r\n",
                "\r\n",
                "# Set snooze for timer\r\n",
                "snooze = 3600 # 1 hour in seconds\r\n",
                "\r\n",
                "# Function that extracts the category of the venue\r\n",
                "def get_category_type(row):\r\n",
                "    try:\r\n",
                "        categories_list = row['categories']\r\n",
                "    except:\r\n",
                "        categories_list = row['venue.categories']\r\n",
                "        \r\n",
                "    if len(categories_list) == 0:\r\n",
                "        return None\r\n",
                "    else:\r\n",
                "        return categories_list[0]['name']\r\n",
                "\r\n",
                "# Create empty variable\r\n",
                "top_nearby_venues_1 = pd.DataFrame()\r\n",
                "\r\n",
                "# Loop through data set\r\n",
                "for partition in partitions[:8]:\r\n",
                "    print(\"Starting download...\")\r\n",
                "    for i in tqdm(range(len(partition.index))):\r\n",
                "        # Get hex id\r\n",
                "        hex_id = partition.iloc[i, 5:6][0]\r\n",
                "        # Get hex lat\r\n",
                "        lat = partition.iloc[i, 6:7][0]\r\n",
                "        # Get hex lng\r\n",
                "        lng = partition.iloc[i, 7:8][0]\r\n",
                "        # Construct URL    \r\n",
                "        url = 'https://api.foursquare.com/v2/venues/search?client_id={}&client_secret={}&ll={},{}&oauth_token={}&v={}&radius={}&limit={}'.format(\r\n",
                "            client_id, \r\n",
                "            client_secret, \r\n",
                "            lat, \r\n",
                "            lng, \r\n",
                "            access_token, \r\n",
                "            version, \r\n",
                "            radius, \r\n",
                "            limit)\r\n",
                "        # Get results\r\n",
                "        results = requests.get(url).json()\r\n",
                "        # Get venues\r\n",
                "        venues = results['response']['venues']\r\n",
                "        # Convert venues dict to df\r\n",
                "        nearby_venues = pd.json_normalize(venues)\r\n",
                "        # Filter columns\r\n",
                "        filtered_columns = ['name', 'categories', 'location.lat', 'location.lng']\r\n",
                "        nearby_venues = nearby_venues.loc[:, filtered_columns]\r\n",
                "        # Filter the category for each row\r\n",
                "        nearby_venues['categories'] = nearby_venues.apply(get_category_type, axis=1)\r\n",
                "        # Clean columns\r\n",
                "        nearby_venues.columns = [col.split(\".\")[-1] for col in nearby_venues.columns]\r\n",
                "        # Store hex id\r\n",
                "        nearby_venues['H3_INDEX'] = hex_id\r\n",
                "        # Store data in variable\r\n",
                "        top_nearby_venues_1 = nearby_venues.append(top_nearby_venues_1)\r\n",
                "    # Check out\r\n",
                "    print(\"Download complete...\")\r\n",
                "    # Set start time\r\n",
                "    start_time = time.time()\r\n",
                "    print(\"Timer started...\")\r\n",
                "    # Start timer\r\n",
                "    while True:\r\n",
                "        # Set current time\r\n",
                "        current_time = time.time()\r\n",
                "        # Calc elapsed time\r\n",
                "        elapsed_time = current_time - start_time                        \r\n",
                "        # Check snooze\r\n",
                "        if elapsed_time > snooze: # End loop after 60 min\r\n",
                "            print(\"... snooze over!\")\r\n",
                "            print()\r\n",
                "            break\r\n",
                "\r\n",
                "# Update\r\n",
                "print()\r\n",
                "print(\"All data downloaded!\")\r\n",
                "\r\n",
                "# Save data\r\n",
                "top_nearby_venues_1.to_csv('TOP_NEARBY_VENUES_1.csv')\r\n",
                "# Check out\r\n",
                "print()\r\n",
                "print(\"Data saved.\")\r\n",
                "print()\r\n",
                "\r\n",
                "# Viz\r\n",
                "print(top_nearby_venues_1.shape)\r\n",
                "top_nearby_venues_1.head(10)"
            ],
            "outputs": [
                {
                    "output_type": "stream",
                    "name": "stderr",
                    "text": [
                        "  0%|          | 0/499 [00:00<?, ?it/s]"
                    ]
                },
                {
                    "output_type": "stream",
                    "name": "stdout",
                    "text": [
                        "Starting download...\n"
                    ]
                },
                {
                    "output_type": "stream",
                    "name": "stderr",
                    "text": [
                        "100%|██████████| 499/499 [02:01<00:00,  4.09it/s]\n"
                    ]
                },
                {
                    "output_type": "stream",
                    "name": "stdout",
                    "text": [
                        "Download complete...\n",
                        "Timer started...\n"
                    ]
                },
                {
                    "output_type": "stream",
                    "name": "stderr",
                    "text": [
                        "  0%|          | 0/500 [00:00<?, ?it/s]"
                    ]
                },
                {
                    "output_type": "stream",
                    "name": "stdout",
                    "text": [
                        "... snooze over!\n",
                        "\n",
                        "Starting download...\n"
                    ]
                },
                {
                    "output_type": "stream",
                    "name": "stderr",
                    "text": [
                        "100%|██████████| 500/500 [02:02<00:00,  4.07it/s]\n"
                    ]
                },
                {
                    "output_type": "stream",
                    "name": "stdout",
                    "text": [
                        "Download complete...\n",
                        "Timer started...\n"
                    ]
                },
                {
                    "output_type": "stream",
                    "name": "stderr",
                    "text": [
                        "  0%|          | 0/499 [00:00<?, ?it/s]"
                    ]
                },
                {
                    "output_type": "stream",
                    "name": "stdout",
                    "text": [
                        "... snooze over!\n",
                        "\n",
                        "Starting download...\n"
                    ]
                },
                {
                    "output_type": "stream",
                    "name": "stderr",
                    "text": [
                        "100%|██████████| 499/499 [02:04<00:00,  4.02it/s]\n"
                    ]
                },
                {
                    "output_type": "stream",
                    "name": "stdout",
                    "text": [
                        "Download complete...\n",
                        "Timer started...\n"
                    ]
                },
                {
                    "output_type": "stream",
                    "name": "stderr",
                    "text": [
                        "  0%|          | 0/499 [00:00<?, ?it/s]"
                    ]
                },
                {
                    "output_type": "stream",
                    "name": "stdout",
                    "text": [
                        "... snooze over!\n",
                        "\n",
                        "Starting download...\n"
                    ]
                },
                {
                    "output_type": "stream",
                    "name": "stderr",
                    "text": [
                        "100%|██████████| 499/499 [02:00<00:00,  4.14it/s]\n"
                    ]
                },
                {
                    "output_type": "stream",
                    "name": "stdout",
                    "text": [
                        "Download complete...\n",
                        "Timer started...\n"
                    ]
                },
                {
                    "output_type": "stream",
                    "name": "stderr",
                    "text": [
                        "  0%|          | 0/499 [00:00<?, ?it/s]"
                    ]
                },
                {
                    "output_type": "stream",
                    "name": "stdout",
                    "text": [
                        "... snooze over!\n",
                        "\n",
                        "Starting download...\n"
                    ]
                },
                {
                    "output_type": "stream",
                    "name": "stderr",
                    "text": [
                        "100%|██████████| 499/499 [02:03<00:00,  4.04it/s]\n"
                    ]
                },
                {
                    "output_type": "stream",
                    "name": "stdout",
                    "text": [
                        "Download complete...\n",
                        "Timer started...\n"
                    ]
                },
                {
                    "output_type": "stream",
                    "name": "stderr",
                    "text": [
                        "  0%|          | 0/499 [00:00<?, ?it/s]"
                    ]
                },
                {
                    "output_type": "stream",
                    "name": "stdout",
                    "text": [
                        "... snooze over!\n",
                        "\n",
                        "Starting download...\n"
                    ]
                },
                {
                    "output_type": "stream",
                    "name": "stderr",
                    "text": [
                        "100%|██████████| 499/499 [02:24<00:00,  3.45it/s]\n"
                    ]
                },
                {
                    "output_type": "stream",
                    "name": "stdout",
                    "text": [
                        "Download complete...\n",
                        "Timer started...\n"
                    ]
                },
                {
                    "output_type": "stream",
                    "name": "stderr",
                    "text": [
                        "  0%|          | 0/499 [00:00<?, ?it/s]"
                    ]
                },
                {
                    "output_type": "stream",
                    "name": "stdout",
                    "text": [
                        "... snooze over!\n",
                        "\n",
                        "Starting download...\n"
                    ]
                },
                {
                    "output_type": "stream",
                    "name": "stderr",
                    "text": [
                        "100%|██████████| 499/499 [03:01<00:00,  2.76it/s]\n"
                    ]
                },
                {
                    "output_type": "stream",
                    "name": "stdout",
                    "text": [
                        "Download complete...\n",
                        "Timer started...\n"
                    ]
                },
                {
                    "output_type": "stream",
                    "name": "stderr",
                    "text": [
                        "  0%|          | 0/499 [00:00<?, ?it/s]"
                    ]
                },
                {
                    "output_type": "stream",
                    "name": "stdout",
                    "text": [
                        "... snooze over!\n",
                        "\n",
                        "Starting download...\n"
                    ]
                },
                {
                    "output_type": "stream",
                    "name": "stderr",
                    "text": [
                        "100%|██████████| 499/499 [02:04<00:00,  4.01it/s]\n"
                    ]
                },
                {
                    "output_type": "stream",
                    "name": "stdout",
                    "text": [
                        "Download complete...\n",
                        "Timer started...\n",
                        "... snooze over!\n",
                        "\n",
                        "\n",
                        "All data downloaded!\n",
                        "\n",
                        "Data saved.\n",
                        "\n",
                        "(19965, 5)\n"
                    ]
                },
                {
                    "output_type": "execute_result",
                    "data": {
                        "text/html": [
                            "<div>\n",
                            "<style scoped>\n",
                            "    .dataframe tbody tr th:only-of-type {\n",
                            "        vertical-align: middle;\n",
                            "    }\n",
                            "\n",
                            "    .dataframe tbody tr th {\n",
                            "        vertical-align: top;\n",
                            "    }\n",
                            "\n",
                            "    .dataframe thead th {\n",
                            "        text-align: right;\n",
                            "    }\n",
                            "</style>\n",
                            "<table border=\"1\" class=\"dataframe\">\n",
                            "  <thead>\n",
                            "    <tr style=\"text-align: right;\">\n",
                            "      <th></th>\n",
                            "      <th>name</th>\n",
                            "      <th>categories</th>\n",
                            "      <th>lat</th>\n",
                            "      <th>lng</th>\n",
                            "      <th>H3_INDEX</th>\n",
                            "    </tr>\n",
                            "  </thead>\n",
                            "  <tbody>\n",
                            "    <tr>\n",
                            "      <th>0</th>\n",
                            "      <td>Saturn</td>\n",
                            "      <td>Electronics Store</td>\n",
                            "      <td>51.222585</td>\n",
                            "      <td>6.780338</td>\n",
                            "      <td>891fa52b2a7ffff</td>\n",
                            "    </tr>\n",
                            "    <tr>\n",
                            "      <th>1</th>\n",
                            "      <td>Mr. Phung</td>\n",
                            "      <td>Chinese Restaurant</td>\n",
                            "      <td>51.222596</td>\n",
                            "      <td>6.779392</td>\n",
                            "      <td>891fa52b2a7ffff</td>\n",
                            "    </tr>\n",
                            "    <tr>\n",
                            "      <th>2</th>\n",
                            "      <td>SEVENS</td>\n",
                            "      <td>Shopping Mall</td>\n",
                            "      <td>51.222573</td>\n",
                            "      <td>6.779397</td>\n",
                            "      <td>891fa52b2a7ffff</td>\n",
                            "    </tr>\n",
                            "    <tr>\n",
                            "      <th>3</th>\n",
                            "      <td>Moleskine</td>\n",
                            "      <td>Stationery Store</td>\n",
                            "      <td>51.222266</td>\n",
                            "      <td>6.779591</td>\n",
                            "      <td>891fa52b2a7ffff</td>\n",
                            "    </tr>\n",
                            "    <tr>\n",
                            "      <th>4</th>\n",
                            "      <td>Gran Caffè Leonardo</td>\n",
                            "      <td>Café</td>\n",
                            "      <td>51.222570</td>\n",
                            "      <td>6.779370</td>\n",
                            "      <td>891fa52b2a7ffff</td>\n",
                            "    </tr>\n",
                            "    <tr>\n",
                            "      <th>0</th>\n",
                            "      <td>Takumi</td>\n",
                            "      <td>Ramen Restaurant</td>\n",
                            "      <td>51.223429</td>\n",
                            "      <td>6.788531</td>\n",
                            "      <td>891fa52b3d7ffff</td>\n",
                            "    </tr>\n",
                            "    <tr>\n",
                            "      <th>1</th>\n",
                            "      <td>Tonkatsu Gonta</td>\n",
                            "      <td>Japanese Restaurant</td>\n",
                            "      <td>51.223490</td>\n",
                            "      <td>6.788785</td>\n",
                            "      <td>891fa52b3d7ffff</td>\n",
                            "    </tr>\n",
                            "    <tr>\n",
                            "      <th>2</th>\n",
                            "      <td>Modern Times</td>\n",
                            "      <td>Nightclub</td>\n",
                            "      <td>51.223359</td>\n",
                            "      <td>6.788862</td>\n",
                            "      <td>891fa52b3d7ffff</td>\n",
                            "    </tr>\n",
                            "    <tr>\n",
                            "      <th>3</th>\n",
                            "      <td>Kyoto - Japan Art Deco</td>\n",
                            "      <td>Arts &amp; Crafts Store</td>\n",
                            "      <td>51.223554</td>\n",
                            "      <td>6.788404</td>\n",
                            "      <td>891fa52b3d7ffff</td>\n",
                            "    </tr>\n",
                            "    <tr>\n",
                            "      <th>4</th>\n",
                            "      <td>What's Beef</td>\n",
                            "      <td>Burger Joint</td>\n",
                            "      <td>51.223753</td>\n",
                            "      <td>6.788566</td>\n",
                            "      <td>891fa52b3d7ffff</td>\n",
                            "    </tr>\n",
                            "  </tbody>\n",
                            "</table>\n",
                            "</div>"
                        ],
                        "text/plain": [
                            "                     name           categories        lat       lng  \\\n",
                            "0                  Saturn    Electronics Store  51.222585  6.780338   \n",
                            "1               Mr. Phung   Chinese Restaurant  51.222596  6.779392   \n",
                            "2                  SEVENS        Shopping Mall  51.222573  6.779397   \n",
                            "3               Moleskine     Stationery Store  51.222266  6.779591   \n",
                            "4     Gran Caffè Leonardo                 Café  51.222570  6.779370   \n",
                            "0                  Takumi     Ramen Restaurant  51.223429  6.788531   \n",
                            "1          Tonkatsu Gonta  Japanese Restaurant  51.223490  6.788785   \n",
                            "2            Modern Times            Nightclub  51.223359  6.788862   \n",
                            "3  Kyoto - Japan Art Deco  Arts & Crafts Store  51.223554  6.788404   \n",
                            "4             What's Beef         Burger Joint  51.223753  6.788566   \n",
                            "\n",
                            "          H3_INDEX  \n",
                            "0  891fa52b2a7ffff  \n",
                            "1  891fa52b2a7ffff  \n",
                            "2  891fa52b2a7ffff  \n",
                            "3  891fa52b2a7ffff  \n",
                            "4  891fa52b2a7ffff  \n",
                            "0  891fa52b3d7ffff  \n",
                            "1  891fa52b3d7ffff  \n",
                            "2  891fa52b3d7ffff  \n",
                            "3  891fa52b3d7ffff  \n",
                            "4  891fa52b3d7ffff  "
                        ]
                    },
                    "metadata": {},
                    "execution_count": 17
                }
            ],
            "metadata": {}
        },
        {
            "cell_type": "code",
            "execution_count": 18,
            "source": [
                "# Import working libraries\r\n",
                "import json\r\n",
                "import requests\r\n",
                "import time\r\n",
                "\r\n",
                "# Define Foursqaure settings\r\n",
                "version = '20180605'\r\n",
                "radius = 174.375668\r\n",
                "limit = 5\r\n",
                "\r\n",
                "# Set snooze for timer\r\n",
                "snooze = 3600 # 1 hour in seconds\r\n",
                "\r\n",
                "# Function that extracts the category of the venue\r\n",
                "def get_category_type(row):\r\n",
                "    try:\r\n",
                "        categories_list = row['categories']\r\n",
                "    except:\r\n",
                "        categories_list = row['venue.categories']\r\n",
                "        \r\n",
                "    if len(categories_list) == 0:\r\n",
                "        return None\r\n",
                "    else:\r\n",
                "        return categories_list[0]['name']\r\n",
                "\r\n",
                "# Create empty variable\r\n",
                "top_nearby_venues_2 = pd.DataFrame()\r\n",
                "\r\n",
                "# Loop through data set\r\n",
                "for partition in partitions[8:16]:\r\n",
                "    print(\"Starting download...\")\r\n",
                "    for i in tqdm(range(len(partition.index))):\r\n",
                "        # Get hex id\r\n",
                "        hex_id = partition.iloc[i, 5:6][0]\r\n",
                "        # Get hex lat\r\n",
                "        lat = partition.iloc[i, 6:7][0]\r\n",
                "        # Get hex lng\r\n",
                "        lng = partition.iloc[i, 7:8][0]\r\n",
                "        # Construct URL    \r\n",
                "        url = 'https://api.foursquare.com/v2/venues/search?client_id={}&client_secret={}&ll={},{}&oauth_token={}&v={}&radius={}&limit={}'.format(\r\n",
                "            client_id, \r\n",
                "            client_secret, \r\n",
                "            lat, \r\n",
                "            lng, \r\n",
                "            access_token, \r\n",
                "            version, \r\n",
                "            radius, \r\n",
                "            limit)\r\n",
                "        # Get results\r\n",
                "        results = requests.get(url).json()\r\n",
                "        # Get venues\r\n",
                "        venues = results['response']['venues']\r\n",
                "        # Convert venues dict to df\r\n",
                "        nearby_venues = pd.json_normalize(venues)\r\n",
                "        # Filter columns\r\n",
                "        filtered_columns = ['name', 'categories', 'location.lat', 'location.lng']\r\n",
                "        nearby_venues = nearby_venues.loc[:, filtered_columns]\r\n",
                "        # Filter the category for each row\r\n",
                "        nearby_venues['categories'] = nearby_venues.apply(get_category_type, axis=1)\r\n",
                "        # Clean columns\r\n",
                "        nearby_venues.columns = [col.split(\".\")[-1] for col in nearby_venues.columns]\r\n",
                "        # Store hex id\r\n",
                "        nearby_venues['H3_INDEX'] = hex_id\r\n",
                "        # Store data in variable\r\n",
                "        top_nearby_venues_2 = nearby_venues.append(top_nearby_venues_2)\r\n",
                "    # Check out\r\n",
                "    print(\"Download complete...\")\r\n",
                "    # Set start time\r\n",
                "    start_time = time.time()\r\n",
                "    print(\"Timer started...\")\r\n",
                "    # Start timer\r\n",
                "    while True:\r\n",
                "        # Set current time\r\n",
                "        current_time = time.time()\r\n",
                "        # Calc elapsed time\r\n",
                "        elapsed_time = current_time - start_time                        \r\n",
                "        # Check snooze\r\n",
                "        if elapsed_time > snooze: # End loop after 60 min\r\n",
                "            print(\"... snooze over!\")\r\n",
                "            print()\r\n",
                "            break\r\n",
                "\r\n",
                "# Update\r\n",
                "print()\r\n",
                "print(\"All data downloaded!\")\r\n",
                "\r\n",
                "# Save data\r\n",
                "top_nearby_venues_2.to_csv('TOP_NEARBY_VENUES_2.csv')\r\n",
                "# Check out\r\n",
                "print()\r\n",
                "print(\"Data saved.\")\r\n",
                "print()\r\n",
                "\r\n",
                "# Viz\r\n",
                "print(top_nearby_venues_2.shape)\r\n",
                "top_nearby_venues_2.head(10)"
            ],
            "outputs": [
                {
                    "output_type": "stream",
                    "name": "stderr",
                    "text": [
                        "  0%|          | 0/499 [00:00<?, ?it/s]"
                    ]
                },
                {
                    "output_type": "stream",
                    "name": "stdout",
                    "text": [
                        "Starting download...\n"
                    ]
                },
                {
                    "output_type": "stream",
                    "name": "stderr",
                    "text": [
                        "100%|██████████| 499/499 [03:09<00:00,  2.63it/s]\n"
                    ]
                },
                {
                    "output_type": "stream",
                    "name": "stdout",
                    "text": [
                        "Download complete...\n",
                        "Timer started...\n"
                    ]
                },
                {
                    "output_type": "stream",
                    "name": "stderr",
                    "text": [
                        "  0%|          | 0/499 [00:00<?, ?it/s]"
                    ]
                },
                {
                    "output_type": "stream",
                    "name": "stdout",
                    "text": [
                        "... snooze over!\n",
                        "\n",
                        "Starting download...\n"
                    ]
                },
                {
                    "output_type": "stream",
                    "name": "stderr",
                    "text": [
                        "100%|██████████| 499/499 [03:04<00:00,  2.70it/s]\n"
                    ]
                },
                {
                    "output_type": "stream",
                    "name": "stdout",
                    "text": [
                        "Download complete...\n",
                        "Timer started...\n"
                    ]
                },
                {
                    "output_type": "stream",
                    "name": "stderr",
                    "text": [
                        "  0%|          | 0/499 [00:00<?, ?it/s]"
                    ]
                },
                {
                    "output_type": "stream",
                    "name": "stdout",
                    "text": [
                        "... snooze over!\n",
                        "\n",
                        "Starting download...\n"
                    ]
                },
                {
                    "output_type": "stream",
                    "name": "stderr",
                    "text": [
                        "100%|██████████| 499/499 [02:17<00:00,  3.62it/s]\n"
                    ]
                },
                {
                    "output_type": "stream",
                    "name": "stdout",
                    "text": [
                        "Download complete...\n",
                        "Timer started...\n"
                    ]
                },
                {
                    "output_type": "stream",
                    "name": "stderr",
                    "text": [
                        "  0%|          | 0/499 [00:00<?, ?it/s]"
                    ]
                },
                {
                    "output_type": "stream",
                    "name": "stdout",
                    "text": [
                        "... snooze over!\n",
                        "\n",
                        "Starting download...\n"
                    ]
                },
                {
                    "output_type": "stream",
                    "name": "stderr",
                    "text": [
                        "100%|██████████| 499/499 [02:16<00:00,  3.67it/s]\n"
                    ]
                },
                {
                    "output_type": "stream",
                    "name": "stdout",
                    "text": [
                        "Download complete...\n",
                        "Timer started...\n"
                    ]
                },
                {
                    "output_type": "stream",
                    "name": "stderr",
                    "text": [
                        "  0%|          | 0/499 [00:00<?, ?it/s]"
                    ]
                },
                {
                    "output_type": "stream",
                    "name": "stdout",
                    "text": [
                        "... snooze over!\n",
                        "\n",
                        "Starting download...\n"
                    ]
                },
                {
                    "output_type": "stream",
                    "name": "stderr",
                    "text": [
                        "100%|██████████| 499/499 [02:12<00:00,  3.78it/s]\n"
                    ]
                },
                {
                    "output_type": "stream",
                    "name": "stdout",
                    "text": [
                        "Download complete...\n",
                        "Timer started...\n"
                    ]
                },
                {
                    "output_type": "stream",
                    "name": "stderr",
                    "text": [
                        "  0%|          | 0/499 [00:00<?, ?it/s]"
                    ]
                },
                {
                    "output_type": "stream",
                    "name": "stdout",
                    "text": [
                        "... snooze over!\n",
                        "\n",
                        "Starting download...\n"
                    ]
                },
                {
                    "output_type": "stream",
                    "name": "stderr",
                    "text": [
                        "100%|██████████| 499/499 [02:09<00:00,  3.86it/s]\n"
                    ]
                },
                {
                    "output_type": "stream",
                    "name": "stdout",
                    "text": [
                        "Download complete...\n",
                        "Timer started...\n"
                    ]
                },
                {
                    "output_type": "stream",
                    "name": "stderr",
                    "text": [
                        "  0%|          | 0/499 [00:00<?, ?it/s]"
                    ]
                },
                {
                    "output_type": "stream",
                    "name": "stdout",
                    "text": [
                        "... snooze over!\n",
                        "\n",
                        "Starting download...\n"
                    ]
                },
                {
                    "output_type": "stream",
                    "name": "stderr",
                    "text": [
                        "100%|██████████| 499/499 [02:13<00:00,  3.74it/s]\n"
                    ]
                },
                {
                    "output_type": "stream",
                    "name": "stdout",
                    "text": [
                        "Download complete...\n",
                        "Timer started...\n"
                    ]
                },
                {
                    "output_type": "stream",
                    "name": "stderr",
                    "text": [
                        "  0%|          | 0/499 [00:00<?, ?it/s]"
                    ]
                },
                {
                    "output_type": "stream",
                    "name": "stdout",
                    "text": [
                        "... snooze over!\n",
                        "\n",
                        "Starting download...\n"
                    ]
                },
                {
                    "output_type": "stream",
                    "name": "stderr",
                    "text": [
                        "100%|██████████| 499/499 [02:15<00:00,  3.67it/s]\n"
                    ]
                },
                {
                    "output_type": "stream",
                    "name": "stdout",
                    "text": [
                        "Download complete...\n",
                        "Timer started...\n",
                        "... snooze over!\n",
                        "\n",
                        "\n",
                        "All data downloaded!\n",
                        "\n",
                        "Data saved.\n",
                        "\n",
                        "(19960, 5)\n"
                    ]
                },
                {
                    "output_type": "execute_result",
                    "data": {
                        "text/html": [
                            "<div>\n",
                            "<style scoped>\n",
                            "    .dataframe tbody tr th:only-of-type {\n",
                            "        vertical-align: middle;\n",
                            "    }\n",
                            "\n",
                            "    .dataframe tbody tr th {\n",
                            "        vertical-align: top;\n",
                            "    }\n",
                            "\n",
                            "    .dataframe thead th {\n",
                            "        text-align: right;\n",
                            "    }\n",
                            "</style>\n",
                            "<table border=\"1\" class=\"dataframe\">\n",
                            "  <thead>\n",
                            "    <tr style=\"text-align: right;\">\n",
                            "      <th></th>\n",
                            "      <th>name</th>\n",
                            "      <th>categories</th>\n",
                            "      <th>lat</th>\n",
                            "      <th>lng</th>\n",
                            "      <th>H3_INDEX</th>\n",
                            "    </tr>\n",
                            "  </thead>\n",
                            "  <tbody>\n",
                            "    <tr>\n",
                            "      <th>0</th>\n",
                            "      <td>Saturn</td>\n",
                            "      <td>Electronics Store</td>\n",
                            "      <td>51.222585</td>\n",
                            "      <td>6.780338</td>\n",
                            "      <td>891fa52b2a7ffff</td>\n",
                            "    </tr>\n",
                            "    <tr>\n",
                            "      <th>1</th>\n",
                            "      <td>Mr. Phung</td>\n",
                            "      <td>Chinese Restaurant</td>\n",
                            "      <td>51.222596</td>\n",
                            "      <td>6.779392</td>\n",
                            "      <td>891fa52b2a7ffff</td>\n",
                            "    </tr>\n",
                            "    <tr>\n",
                            "      <th>2</th>\n",
                            "      <td>Napapijri</td>\n",
                            "      <td>Clothing Store</td>\n",
                            "      <td>51.222666</td>\n",
                            "      <td>6.779353</td>\n",
                            "      <td>891fa52b2a7ffff</td>\n",
                            "    </tr>\n",
                            "    <tr>\n",
                            "      <th>3</th>\n",
                            "      <td>Gran Caffè Leonardo</td>\n",
                            "      <td>Café</td>\n",
                            "      <td>51.222570</td>\n",
                            "      <td>6.779370</td>\n",
                            "      <td>891fa52b2a7ffff</td>\n",
                            "    </tr>\n",
                            "    <tr>\n",
                            "      <th>4</th>\n",
                            "      <td>SEVENS</td>\n",
                            "      <td>Shopping Mall</td>\n",
                            "      <td>51.222573</td>\n",
                            "      <td>6.779397</td>\n",
                            "      <td>891fa52b2a7ffff</td>\n",
                            "    </tr>\n",
                            "    <tr>\n",
                            "      <th>0</th>\n",
                            "      <td>Takumi</td>\n",
                            "      <td>Ramen Restaurant</td>\n",
                            "      <td>51.223429</td>\n",
                            "      <td>6.788531</td>\n",
                            "      <td>891fa52b3d7ffff</td>\n",
                            "    </tr>\n",
                            "    <tr>\n",
                            "      <th>1</th>\n",
                            "      <td>Tonkatsu Gonta</td>\n",
                            "      <td>Japanese Restaurant</td>\n",
                            "      <td>51.223490</td>\n",
                            "      <td>6.788785</td>\n",
                            "      <td>891fa52b3d7ffff</td>\n",
                            "    </tr>\n",
                            "    <tr>\n",
                            "      <th>2</th>\n",
                            "      <td>Modern Times</td>\n",
                            "      <td>Nightclub</td>\n",
                            "      <td>51.223359</td>\n",
                            "      <td>6.788862</td>\n",
                            "      <td>891fa52b3d7ffff</td>\n",
                            "    </tr>\n",
                            "    <tr>\n",
                            "      <th>3</th>\n",
                            "      <td>Kyoto - Japan Art Deco</td>\n",
                            "      <td>Arts &amp; Crafts Store</td>\n",
                            "      <td>51.223554</td>\n",
                            "      <td>6.788404</td>\n",
                            "      <td>891fa52b3d7ffff</td>\n",
                            "    </tr>\n",
                            "    <tr>\n",
                            "      <th>4</th>\n",
                            "      <td>What's Beef</td>\n",
                            "      <td>Burger Joint</td>\n",
                            "      <td>51.223753</td>\n",
                            "      <td>6.788566</td>\n",
                            "      <td>891fa52b3d7ffff</td>\n",
                            "    </tr>\n",
                            "  </tbody>\n",
                            "</table>\n",
                            "</div>"
                        ],
                        "text/plain": [
                            "                     name           categories        lat       lng  \\\n",
                            "0                  Saturn    Electronics Store  51.222585  6.780338   \n",
                            "1               Mr. Phung   Chinese Restaurant  51.222596  6.779392   \n",
                            "2               Napapijri       Clothing Store  51.222666  6.779353   \n",
                            "3     Gran Caffè Leonardo                 Café  51.222570  6.779370   \n",
                            "4                  SEVENS        Shopping Mall  51.222573  6.779397   \n",
                            "0                  Takumi     Ramen Restaurant  51.223429  6.788531   \n",
                            "1          Tonkatsu Gonta  Japanese Restaurant  51.223490  6.788785   \n",
                            "2            Modern Times            Nightclub  51.223359  6.788862   \n",
                            "3  Kyoto - Japan Art Deco  Arts & Crafts Store  51.223554  6.788404   \n",
                            "4             What's Beef         Burger Joint  51.223753  6.788566   \n",
                            "\n",
                            "          H3_INDEX  \n",
                            "0  891fa52b2a7ffff  \n",
                            "1  891fa52b2a7ffff  \n",
                            "2  891fa52b2a7ffff  \n",
                            "3  891fa52b2a7ffff  \n",
                            "4  891fa52b2a7ffff  \n",
                            "0  891fa52b3d7ffff  \n",
                            "1  891fa52b3d7ffff  \n",
                            "2  891fa52b3d7ffff  \n",
                            "3  891fa52b3d7ffff  \n",
                            "4  891fa52b3d7ffff  "
                        ]
                    },
                    "metadata": {},
                    "execution_count": 18
                }
            ],
            "metadata": {}
        }
    ],
    "metadata": {
        "orig_nbformat": 4,
        "language_info": {
            "name": "python",
            "version": "3.9.0",
            "mimetype": "text/x-python",
            "codemirror_mode": {
                "name": "ipython",
                "version": 3
            },
            "pygments_lexer": "ipython3",
            "nbconvert_exporter": "python",
            "file_extension": ".py"
        },
        "kernelspec": {
            "name": "python3",
            "display_name": "Python 3.9.0 64-bit"
        },
        "interpreter": {
            "hash": "119bfaff21b32781f6d2764777c04d49502b53816ae403fe48dcf9da50cdb242"
        }
    },
    "nbformat": 4,
    "nbformat_minor": 2
}